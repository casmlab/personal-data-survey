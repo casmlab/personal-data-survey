{
 "cells": [
  {
   "cell_type": "code",
   "execution_count": 1,
   "metadata": {},
   "outputs": [
    {
     "name": "stderr",
     "output_type": "stream",
     "text": [
      "\n",
      "Attaching package: ‘dplyr’\n",
      "\n",
      "\n",
      "The following objects are masked from ‘package:stats’:\n",
      "\n",
      "    filter, lag\n",
      "\n",
      "\n",
      "The following objects are masked from ‘package:base’:\n",
      "\n",
      "    intersect, setdiff, setequal, union\n",
      "\n",
      "\n",
      "\n",
      "Please cite as: \n",
      "\n",
      "\n",
      " Hlavac, Marek (2022). stargazer: Well-Formatted Regression and Summary Statistics Tables.\n",
      "\n",
      " R package version 5.2.3. https://CRAN.R-project.org/package=stargazer \n",
      "\n",
      "\n",
      "Learn more about sjPlot with 'browseVignettes(\"sjPlot\")'.\n",
      "\n",
      "\n",
      "Attaching package: ‘tidyr’\n",
      "\n",
      "\n",
      "The following object is masked from ‘package:reshape2’:\n",
      "\n",
      "    smiths\n",
      "\n",
      "\n"
     ]
    }
   ],
   "source": [
    "# tidyverse and presentation\n",
    "library('dplyr')\n",
    "library('forcats')\n",
    "library('reshape2')\n",
    "library('stringr')\n",
    "library('readr')\n",
    "library('ggplot2')\n",
    "library('stargazer')\n",
    "library('arsenal')\n",
    "library('sjPlot')\n",
    "library('tidyr')\n",
    "library('naniar') # replacing -99 w/NA\n",
    "\n",
    "# display\n",
    "options(repr.matrix.max.cols=50, repr.matrix.max.rows=100)\n",
    "options(dplyr.width = Inf)"
   ]
  },
  {
   "cell_type": "markdown",
   "metadata": {},
   "source": [
    "# Overview\n",
    "\n",
    "This notebook preps data from Qualtrics for analysis. The survey ran in October 2021 using a Qualtrics panel and in November 2021 using MTurkers. We estimated N = 426 for statistical power to detect differences among our users, data, and use case variables. We received 586 responses from Qualtrics panelists and 432 from MTurkers. "
   ]
  },
  {
   "cell_type": "markdown",
   "metadata": {},
   "source": [
    "Where does the data live that we want to use?"
   ]
  },
  {
   "cell_type": "code",
   "execution_count": 2,
   "metadata": {},
   "outputs": [],
   "source": [
    "qualtrics_file <- '../data/qualtrics_data.csv'\n",
    "\n",
    "mturk_file <- '../data/mturk_data.csv'\n",
    "\n",
    "out_file <- '../data/personal_data_survey_responses.Rdata'"
   ]
  },
  {
   "cell_type": "code",
   "execution_count": 3,
   "metadata": {},
   "outputs": [
    {
     "name": "stderr",
     "output_type": "stream",
     "text": [
      "\u001b[1mRows: \u001b[22m\u001b[34m586\u001b[39m \u001b[1mColumns: \u001b[22m\u001b[34m141\u001b[39m\n",
      "\u001b[36m──\u001b[39m \u001b[1mColumn specification\u001b[22m \u001b[36m────────────────────────────────────────────────────────\u001b[39m\n",
      "\u001b[1mDelimiter:\u001b[22m \",\"\n",
      "\u001b[31mchr\u001b[39m (140): responseid, distributionchannel, q43, social_media_use, how_often...\n",
      "\u001b[32mdbl\u001b[39m   (1): gender_identity_6\n",
      "\n",
      "\u001b[36mℹ\u001b[39m Use `spec()` to retrieve the full column specification for this data.\n",
      "\u001b[36mℹ\u001b[39m Specify the column types or set `show_col_types = FALSE` to quiet this message.\n",
      "\u001b[1mRows: \u001b[22m\u001b[34m432\u001b[39m \u001b[1mColumns: \u001b[22m\u001b[34m141\u001b[39m\n",
      "\u001b[36m──\u001b[39m \u001b[1mColumn specification\u001b[22m \u001b[36m────────────────────────────────────────────────────────\u001b[39m\n",
      "\u001b[1mDelimiter:\u001b[22m \",\"\n",
      "\u001b[31mchr\u001b[39m (137): responseid, distributionchannel, q43, social_media_use, how_often...\n",
      "\u001b[32mdbl\u001b[39m   (4): gender_identity_3, gender_identity_4, sexual_orientation_5, race_...\n",
      "\n",
      "\u001b[36mℹ\u001b[39m Use `spec()` to retrieve the full column specification for this data.\n",
      "\u001b[36mℹ\u001b[39m Specify the column types or set `show_col_types = FALSE` to quiet this message.\n"
     ]
    }
   ],
   "source": [
    "qdf <- read_csv(qualtrics_file)\n",
    "qdf$source <- \"qualtrics\"\n",
    "mdf <- read_csv(mturk_file)\n",
    "mdf$source <- \"mturk\"\n",
    "df <- rbind(qdf, mdf)"
   ]
  },
  {
   "cell_type": "markdown",
   "metadata": {},
   "source": [
    "Let's make sure I didn't introduce any duplicates when manually prepping spreadsheets."
   ]
  },
  {
   "cell_type": "code",
   "execution_count": 4,
   "metadata": {},
   "outputs": [
    {
     "data": {
      "text/html": [
       "1018"
      ],
      "text/latex": [
       "1018"
      ],
      "text/markdown": [
       "1018"
      ],
      "text/plain": [
       "[1] 1018"
      ]
     },
     "metadata": {},
     "output_type": "display_data"
    }
   ],
   "source": [
    "df <- df %>% distinct()\n",
    "nrow(df)"
   ]
  },
  {
   "cell_type": "code",
   "execution_count": 5,
   "metadata": {},
   "outputs": [
    {
     "name": "stdout",
     "output_type": "stream",
     "text": [
      "Rows: 1,018\n",
      "Columns: 142\n",
      "$ responseid           \u001b[3m\u001b[90m<chr>\u001b[39m\u001b[23m \"R_3FXrXtg2n2GkeT4\", \"R_usoOyr9obtGrVYt\", \"R_12aM…\n",
      "$ distributionchannel  \u001b[3m\u001b[90m<chr>\u001b[39m\u001b[23m \"anonymous\", \"anonymous\", \"anonymous\", \"anonymous…\n",
      "$ q43                  \u001b[3m\u001b[90m<chr>\u001b[39m\u001b[23m \"Yes\", \"Yes\", \"Yes\", \"Yes\", \"Yes\", \"Yes\", \"Yes\", …\n",
      "$ social_media_use     \u001b[3m\u001b[90m<chr>\u001b[39m\u001b[23m \"Yes\", \"Yes\", \"Yes\", \"Yes\", \"Yes\", \"Yes\", \"Yes\", …\n",
      "$ how_often_1          \u001b[3m\u001b[90m<chr>\u001b[39m\u001b[23m \"Several Times a Day\", \"Several Times a Day\", \"Se…\n",
      "$ how_often_2          \u001b[3m\u001b[90m<chr>\u001b[39m\u001b[23m \"A Few Times a Week\", \"Several Times a Day\", \"Sev…\n",
      "$ how_often_3          \u001b[3m\u001b[90m<chr>\u001b[39m\u001b[23m \"A Few Times a Week\", \"Don't use at all\", \"Every …\n",
      "$ how_often_4          \u001b[3m\u001b[90m<chr>\u001b[39m\u001b[23m \"About Once a Day\", \"Don't use at all\", \"Several …\n",
      "$ how_often_5          \u001b[3m\u001b[90m<chr>\u001b[39m\u001b[23m \"A Few Times a Week\", \"Don't use at all\", \"Every …\n",
      "$ how_often_6          \u001b[3m\u001b[90m<chr>\u001b[39m\u001b[23m \"About Once a Day\", \"Don't use at all\", \"A Few Ti…\n",
      "$ how_often_7          \u001b[3m\u001b[90m<chr>\u001b[39m\u001b[23m \"About Once a Day\", \"A Few Times a Week\", \"A Few …\n",
      "$ how_often_8          \u001b[3m\u001b[90m<chr>\u001b[39m\u001b[23m \"Several Times a Day\", \"Don't use at all\", \"A Few…\n",
      "$ how_often_9          \u001b[3m\u001b[90m<chr>\u001b[39m\u001b[23m \"A Few Times a Week\", \"Don't use at all\", \"A Few …\n",
      "$ how_often_10         \u001b[3m\u001b[90m<chr>\u001b[39m\u001b[23m \"About Once a Day\", \"Don't use at all\", \"A Few Ti…\n",
      "$ how_often_11         \u001b[3m\u001b[90m<chr>\u001b[39m\u001b[23m \"About Once a Day\", \"A Few Times a Week\", \"About …\n",
      "$ tweets_public        \u001b[3m\u001b[90m<chr>\u001b[39m\u001b[23m \"No\", NA, \"Yes\", \"Yes\", NA, \"Yes\", \"I'm not sure\"…\n",
      "$ insta_public         \u001b[3m\u001b[90m<chr>\u001b[39m\u001b[23m \"No\", \"Yes\", \"Yes\", \"Yes\", NA, \"Yes\", NA, \"Yes\", …\n",
      "$ researchers_1        \u001b[3m\u001b[90m<chr>\u001b[39m\u001b[23m \"Yes\", \"Yes\", \"Yes\", \"-99\", \"Yes\", \"-99\", \"Yes\", …\n",
      "$ researchers_2        \u001b[3m\u001b[90m<chr>\u001b[39m\u001b[23m \"Yes\", \"Yes\", \"Yes\", \"Yes\", \"No\", \"-99\", \"Yes\", \"…\n",
      "$ researchers_3        \u001b[3m\u001b[90m<chr>\u001b[39m\u001b[23m \"No\", \"No\", \"Yes\", \"-99\", \"No\", \"I'm not sure.\", …\n",
      "$ researchers_4        \u001b[3m\u001b[90m<chr>\u001b[39m\u001b[23m \"Yes\", \"Yes\", \"Yes\", \"-99\", \"No\", \"-99\", \"Yes\", \"…\n",
      "$ researchers_5        \u001b[3m\u001b[90m<chr>\u001b[39m\u001b[23m \"Yes\", \"No\", \"Yes\", \"-99\", \"I'm not sure.\", \"-99\"…\n",
      "$ researchers_6        \u001b[3m\u001b[90m<chr>\u001b[39m\u001b[23m NA, NA, NA, NA, NA, NA, NA, NA, NA, NA, NA, NA, N…\n",
      "$ researchers_7        \u001b[3m\u001b[90m<chr>\u001b[39m\u001b[23m \"Yes\", \"No\", \"Yes\", \"-99\", \"Yes\", \"-99\", \"Yes\", \"…\n",
      "$ researchers_8        \u001b[3m\u001b[90m<chr>\u001b[39m\u001b[23m \"No\", \"No\", \"Yes\", \"-99\", \"No\", \"-99\", \"Yes\", \"Ye…\n",
      "$ researchers_9        \u001b[3m\u001b[90m<chr>\u001b[39m\u001b[23m \"Yes\", \"No\", \"Yes\", \"-99\", \"I'm not sure.\", \"-99\"…\n",
      "$ researchers_10       \u001b[3m\u001b[90m<chr>\u001b[39m\u001b[23m \"Yes\", \"Yes\", \"Yes\", \"-99\", \"No\", \"-99\", \"Yes\", \"…\n",
      "$ researchers_11       \u001b[3m\u001b[90m<chr>\u001b[39m\u001b[23m \"No\", \"No\", \"Yes\", \"-99\", \"No\", \"-99\", \"Yes\", \"No…\n",
      "$ researchers_12       \u001b[3m\u001b[90m<chr>\u001b[39m\u001b[23m \"Yes\", \"No\", \"Yes\", \"-99\", \"No\", \"-99\", \"Yes\", \"N…\n",
      "$ researchers_13       \u001b[3m\u001b[90m<chr>\u001b[39m\u001b[23m \"Yes\", \"Yes\", \"Yes\", \"-99\", \"No\", \"-99\", \"Yes\", \"…\n",
      "$ researchers_14       \u001b[3m\u001b[90m<chr>\u001b[39m\u001b[23m \"No\", \"No\", \"Yes\", \"-99\", \"No\", \"-99\", \"Yes\", \"No…\n",
      "$ researchers_15       \u001b[3m\u001b[90m<chr>\u001b[39m\u001b[23m \"Yes\", \"Yes\", \"Yes\", \"-99\", \"I'm not sure.\", \"-99…\n",
      "$ researchers_16       \u001b[3m\u001b[90m<chr>\u001b[39m\u001b[23m \"Yes\", \"Yes\", \"Yes\", \"-99\", \"I'm not sure.\", \"-99…\n",
      "$ researchers_17       \u001b[3m\u001b[90m<chr>\u001b[39m\u001b[23m \"Yes\", \"No\", \"Yes\", \"-99\", \"No\", \"-99\", \"Yes\", \"N…\n",
      "$ researchers_18       \u001b[3m\u001b[90m<chr>\u001b[39m\u001b[23m \"Yes\", \"No\", \"Yes\", \"-99\", \"No\", \"-99\", \"Yes\", \"Y…\n",
      "$ researchers_19       \u001b[3m\u001b[90m<chr>\u001b[39m\u001b[23m \"Yes\", \"No\", \"Yes\", \"-99\", \"No\", \"-99\", \"Yes\", \"N…\n",
      "$ researchers_20       \u001b[3m\u001b[90m<chr>\u001b[39m\u001b[23m \"Yes\", \"No\", \"Yes\", \"-99\", \"I'm not sure.\", \"-99\"…\n",
      "$ sm_companies_1       \u001b[3m\u001b[90m<chr>\u001b[39m\u001b[23m \"No\", \"No\", \"No\", \"-99\", \"Yes\", \"-99\", \"Yes\", \"Ye…\n",
      "$ sm_companies_2       \u001b[3m\u001b[90m<chr>\u001b[39m\u001b[23m \"Yes\", \"Yes\", \"Yes\", \"-99\", \"No\", \"-99\", \"Yes\", \"…\n",
      "$ sm_companies_3       \u001b[3m\u001b[90m<chr>\u001b[39m\u001b[23m \"No\", \"No\", \"No\", \"-99\", \"No\", \"-99\", \"Yes\", \"No\"…\n",
      "$ sm_companies_4       \u001b[3m\u001b[90m<chr>\u001b[39m\u001b[23m \"No\", \"Yes\", \"No\", \"-99\", \"No\", \"-99\", \"Yes\", \"No…\n",
      "$ sm_companies_5       \u001b[3m\u001b[90m<chr>\u001b[39m\u001b[23m NA, NA, NA, NA, NA, NA, NA, NA, NA, NA, NA, NA, N…\n",
      "$ sm_companies_6       \u001b[3m\u001b[90m<chr>\u001b[39m\u001b[23m \"No\", \"No\", \"No\", \"-99\", \"No\", \"-99\", \"Yes\", \"No\"…\n",
      "$ sm_companies_7       \u001b[3m\u001b[90m<chr>\u001b[39m\u001b[23m \"Yes\", \"No\", \"Yes\", \"-99\", \"I'm not sure.\", \"-99\"…\n",
      "$ sm_companies_8       \u001b[3m\u001b[90m<chr>\u001b[39m\u001b[23m \"I'm not sure.\", \"No\", \"Yes\", \"-99\", \"No\", \"-99\",…\n",
      "$ sm_companies_9       \u001b[3m\u001b[90m<chr>\u001b[39m\u001b[23m \"Yes\", \"No\", \"No\", \"-99\", \"No\", \"-99\", \"Yes\", \"No…\n",
      "$ sm_companies_10      \u001b[3m\u001b[90m<chr>\u001b[39m\u001b[23m \"Yes\", \"Yes\", \"Yes\", \"-99\", \"No\", \"-99\", \"Yes\", \"…\n",
      "$ sm_companies_11      \u001b[3m\u001b[90m<chr>\u001b[39m\u001b[23m \"Yes\", \"No\", \"Yes\", \"-99\", \"No\", \"-99\", \"Yes\", \"N…\n",
      "$ sm_companies_12      \u001b[3m\u001b[90m<chr>\u001b[39m\u001b[23m \"Yes\", \"No\", \"Yes\", \"-99\", \"No\", \"-99\", \"Yes\", \"N…\n",
      "$ sm_companies_13      \u001b[3m\u001b[90m<chr>\u001b[39m\u001b[23m \"No\", \"Yes\", \"Yes\", \"-99\", \"No\", \"I'm not sure.\",…\n",
      "$ sm_companies_14      \u001b[3m\u001b[90m<chr>\u001b[39m\u001b[23m \"Yes\", \"No\", \"Yes\", \"-99\", \"No\", \"-99\", \"Yes\", \"N…\n",
      "$ sm_companies_15      \u001b[3m\u001b[90m<chr>\u001b[39m\u001b[23m \"Yes\", \"Yes\", \"No\", \"Yes\", \"I'm not sure.\", \"-99\"…\n",
      "$ sm_companies_16      \u001b[3m\u001b[90m<chr>\u001b[39m\u001b[23m \"Yes\", \"Yes\", \"Yes\", \"-99\", \"I'm not sure.\", \"-99…\n",
      "$ sm_companies_17      \u001b[3m\u001b[90m<chr>\u001b[39m\u001b[23m \"Yes\", \"No\", \"Yes\", \"-99\", \"No\", \"-99\", \"Yes\", \"N…\n",
      "$ sm_companies_18      \u001b[3m\u001b[90m<chr>\u001b[39m\u001b[23m \"No\", \"No\", \"No\", \"-99\", \"No\", \"-99\", \"Yes\", \"No\"…\n",
      "$ sm_companies_19      \u001b[3m\u001b[90m<chr>\u001b[39m\u001b[23m \"No\", \"No\", \"Yes\", \"-99\", \"No\", \"-99\", \"Yes\", \"No…\n",
      "$ sm_companies_20      \u001b[3m\u001b[90m<chr>\u001b[39m\u001b[23m \"Yes\", \"No\", \"Yes\", \"-99\", \"I'm not sure.\", \"-99\"…\n",
      "$ journalists_1        \u001b[3m\u001b[90m<chr>\u001b[39m\u001b[23m \"-99\", \"-99\", \"Yes\", \"-99\", \"No\", \"No\", \"No\", \"No…\n",
      "$ journalists_2        \u001b[3m\u001b[90m<chr>\u001b[39m\u001b[23m \"-99\", \"-99\", \"Yes\", \"-99\", \"No\", \"I'm not sure.\"…\n",
      "$ journalists_3        \u001b[3m\u001b[90m<chr>\u001b[39m\u001b[23m \"-99\", \"Yes\", \"Yes\", \"-99\", \"No\", \"No\", \"No\", \"No…\n",
      "$ journalists_4        \u001b[3m\u001b[90m<chr>\u001b[39m\u001b[23m \"-99\", \"Yes\", \"Yes\", \"-99\", \"No\", \"No\", \"No\", \"No…\n",
      "$ journalists_5        \u001b[3m\u001b[90m<chr>\u001b[39m\u001b[23m \"-99\", \"-99\", \"Yes\", \"-99\", \"No\", \"I'm not sure.\"…\n",
      "$ journalists_6        \u001b[3m\u001b[90m<chr>\u001b[39m\u001b[23m \"-99\", \"Yes\", \"Yes\", \"-99\", \"No\", \"I'm not sure.\"…\n",
      "$ journalists_7        \u001b[3m\u001b[90m<chr>\u001b[39m\u001b[23m \"-99\", \"Yes\", \"Yes\", \"-99\", \"No\", \"Yes\", \"No\", \"N…\n",
      "$ journalists_8        \u001b[3m\u001b[90m<chr>\u001b[39m\u001b[23m \"-99\", \"-99\", \"Yes\", \"-99\", \"No\", \"No\", \"No\", \"No…\n",
      "$ journalists_9        \u001b[3m\u001b[90m<chr>\u001b[39m\u001b[23m \"-99\", \"No\", \"Yes\", \"-99\", \"No\", \"Yes\", \"No\", \"No…\n",
      "$ journalists_10       \u001b[3m\u001b[90m<chr>\u001b[39m\u001b[23m \"-99\", \"Yes\", \"Yes\", \"Yes\", \"No\", \"No\", \"No\", \"No…\n",
      "$ journalists_11       \u001b[3m\u001b[90m<chr>\u001b[39m\u001b[23m \"-99\", \"-99\", \"Yes\", \"-99\", \"No\", \"No\", \"No\", \"No…\n",
      "$ journalists_12       \u001b[3m\u001b[90m<chr>\u001b[39m\u001b[23m \"Yes\", \"Yes\", \"Yes\", \"-99\", \"No\", \"No\", \"No\", \"No…\n",
      "$ journalists_13       \u001b[3m\u001b[90m<chr>\u001b[39m\u001b[23m \"-99\", \"Yes\", \"Yes\", \"-99\", \"No\", \"No\", \"No\", \"No…\n",
      "$ journalists_14       \u001b[3m\u001b[90m<chr>\u001b[39m\u001b[23m \"-99\", \"-99\", \"Yes\", \"-99\", \"No\", \"No\", \"No\", \"No…\n",
      "$ journalists_15       \u001b[3m\u001b[90m<chr>\u001b[39m\u001b[23m \"-99\", \"Yes\", \"Yes\", \"-99\", \"No\", \"Yes\", \"No\", \"N…\n",
      "$ journalists_16       \u001b[3m\u001b[90m<chr>\u001b[39m\u001b[23m \"-99\", \"-99\", \"Yes\", \"-99\", \"No\", \"I'm not sure.\"…\n",
      "$ sometimes            \u001b[3m\u001b[90m<chr>\u001b[39m\u001b[23m \"Yes\", \"Yes\", \"Yes\", \"Yes\", \"Yes\", \"Yes\", \"Yes\", …\n",
      "$ sometimes_text       \u001b[3m\u001b[90m<chr>\u001b[39m\u001b[23m \"yup\", \"I feel like some of these would have spec…\n",
      "$ digital_privacy_1    \u001b[3m\u001b[90m<chr>\u001b[39m\u001b[23m \"Disagree\", \"Agree\", \"Agree\", \"Agree\", \"Agree\", \"…\n",
      "$ digital_privacy_2    \u001b[3m\u001b[90m<chr>\u001b[39m\u001b[23m \"Neither Agree Nor Disagree\", \"Agree\", \"Disagree\"…\n",
      "$ digital_privacy_3    \u001b[3m\u001b[90m<chr>\u001b[39m\u001b[23m \"Neither Agree Nor Disagree\", \"Agree\", \"Agree\", \"…\n",
      "$ digital_privacy_4    \u001b[3m\u001b[90m<chr>\u001b[39m\u001b[23m \"Neither Agree Nor Disagree\", \"Agree\", \"Disagree\"…\n",
      "$ social_science       \u001b[3m\u001b[90m<chr>\u001b[39m\u001b[23m NA, NA, NA, NA, NA, NA, NA, NA, NA, NA, NA, NA, N…\n",
      "$ data_archive_1       \u001b[3m\u001b[90m<chr>\u001b[39m\u001b[23m \"Neither important nor unimportant\", \"Important\",…\n",
      "$ data_archive_2       \u001b[3m\u001b[90m<chr>\u001b[39m\u001b[23m \"Not important\", \"Neither important nor unimporta…\n",
      "$ data_archive_3       \u001b[3m\u001b[90m<chr>\u001b[39m\u001b[23m \"Neither important nor unimportant\", \"Important\",…\n",
      "$ data_archive_4       \u001b[3m\u001b[90m<chr>\u001b[39m\u001b[23m \"Not important\", \"Important\", \"Important\", \"-99\",…\n",
      "$ data_archive_5       \u001b[3m\u001b[90m<chr>\u001b[39m\u001b[23m \"Neither important nor unimportant\", \"Important\",…\n",
      "$ secure_archive       \u001b[3m\u001b[90m<chr>\u001b[39m\u001b[23m NA, NA, NA, NA, NA, NA, NA, NA, NA, NA, NA, NA, N…\n",
      "$ anonymous_archive    \u001b[3m\u001b[90m<chr>\u001b[39m\u001b[23m NA, NA, NA, NA, NA, NA, NA, NA, NA, NA, NA, NA, N…\n",
      "$ `concern-misuse`     \u001b[3m\u001b[90m<chr>\u001b[39m\u001b[23m NA, NA, NA, NA, NA, NA, NA, NA, NA, NA, NA, NA, N…\n",
      "$ `concern-harm`       \u001b[3m\u001b[90m<chr>\u001b[39m\u001b[23m NA, NA, NA, NA, NA, NA, NA, NA, NA, NA, NA, NA, N…\n",
      "$ age                  \u001b[3m\u001b[90m<chr>\u001b[39m\u001b[23m \"25 - 34\", \"35 - 44\", \"35 - 44\", \"75 - 84\", \"75 -…\n",
      "$ gender_identity_1    \u001b[3m\u001b[90m<chr>\u001b[39m\u001b[23m \"-99\", \"0\", \"0\", \"Woman\", \"Woman\", \"Woman\", \"0\", …\n",
      "$ gender_identity_2    \u001b[3m\u001b[90m<chr>\u001b[39m\u001b[23m \"-99\", \"0\", \"Man\", \"Man\", \"0\", \"0\", \"Man\", \"0\", \"…\n",
      "$ gender_identity_3    \u001b[3m\u001b[90m<chr>\u001b[39m\u001b[23m \"-99\", \"0\", \"0\", \"Transgender\", \"0\", \"0\", \"0\", \"0…\n",
      "$ gender_identity_4    \u001b[3m\u001b[90m<chr>\u001b[39m\u001b[23m \"-99\", \"Nonbinary/genderqueer\", \"0\", \"Nonbinary/g…\n",
      "$ gender_identity_5    \u001b[3m\u001b[90m<chr>\u001b[39m\u001b[23m \"-99\", \"0\", \"0\", \"0\", \"0\", \"0\", \"0\", \"0\", \"0\", \"0…\n",
      "$ gender_identity_6    \u001b[3m\u001b[90m<chr>\u001b[39m\u001b[23m \"-99\", \"0\", \"0\", \"0\", \"0\", \"0\", \"0\", \"0\", \"0\", \"0…\n",
      "$ sexual_orientation_1 \u001b[3m\u001b[90m<chr>\u001b[39m\u001b[23m \"-99\", \"0\", \"0\", \"0\", \"0\", \"0\", \"Gay or lesbian\",…\n",
      "$ sexual_orientation_2 \u001b[3m\u001b[90m<chr>\u001b[39m\u001b[23m \"-99\", \"0\", \"Heterosexual (straight)\", \"Heterosex…\n",
      "$ sexual_orientation_3 \u001b[3m\u001b[90m<chr>\u001b[39m\u001b[23m \"-99\", \"0\", \"0\", \"Bisexual\", \"0\", \"0\", \"0\", \"0\", …\n",
      "$ sexual_orientation_4 \u001b[3m\u001b[90m<chr>\u001b[39m\u001b[23m \"-99\", \"0\", \"0\", \"Prefer not to answer\", \"0\", \"0\"…\n",
      "$ sexual_orientation_5 \u001b[3m\u001b[90m<chr>\u001b[39m\u001b[23m \"-99\", \"Something else\", \"0\", \"0\", \"0\", \"0\", \"0\",…\n",
      "$ race_ethnicity_1     \u001b[3m\u001b[90m<chr>\u001b[39m\u001b[23m \"0\", \"0\", \"0\", \"0\", \"0\", \"0\", \"0\", \"0\", \"0\", \"0\",…\n",
      "$ race_ethnicity_2     \u001b[3m\u001b[90m<chr>\u001b[39m\u001b[23m \"0\", \"0\", \"0\", \"0\", \"0\", \"0\", \"0\", \"0\", \"0\", \"0\",…\n",
      "$ race_ethnicity_3     \u001b[3m\u001b[90m<chr>\u001b[39m\u001b[23m \"0\", \"0\", \"0\", \"0\", \"0\", \"0\", \"0\", \"0\", \"0\", \"0\",…\n",
      "$ race_ethnicity_4     \u001b[3m\u001b[90m<chr>\u001b[39m\u001b[23m \"0\", \"0\", \"0\", \"0\", \"0\", \"0\", \"0\", \"0\", \"0\", \"His…\n",
      "$ race_ethnicity_5     \u001b[3m\u001b[90m<chr>\u001b[39m\u001b[23m \"0\", \"0\", \"0\", \"0\", \"0\", \"0\", \"0\", \"0\", \"0\", \"0\",…\n",
      "$ race_ethnicity_6     \u001b[3m\u001b[90m<chr>\u001b[39m\u001b[23m \"Native Hawaiian or other Pacific Islander\", \"0\",…\n",
      "$ race_ethnicity_7     \u001b[3m\u001b[90m<chr>\u001b[39m\u001b[23m \"0\", \"White\", \"White\", \"White\", \"White\", \"White\",…\n",
      "$ race_ethnicity_8     \u001b[3m\u001b[90m<chr>\u001b[39m\u001b[23m \"0\", \"0\", \"0\", \"0\", \"0\", \"0\", \"0\", \"0\", \"0\", \"0\",…\n",
      "$ race_ethnicity_9     \u001b[3m\u001b[90m<chr>\u001b[39m\u001b[23m \"0\", \"0\", \"0\", \"0\", \"0\", \"0\", \"0\", \"0\", \"0\", \"0\",…\n",
      "$ education            \u001b[3m\u001b[90m<chr>\u001b[39m\u001b[23m \"High school graduate - high school diploma or eq…\n",
      "$ income               \u001b[3m\u001b[90m<chr>\u001b[39m\u001b[23m \"$40,000 - $49,999\", \"Less than $10,000\", \"$100,0…\n",
      "$ sensitivity_1        \u001b[3m\u001b[90m<chr>\u001b[39m\u001b[23m \"3\", \"-99\", \"-99\", \"-99\", \"Very Sensitive 10\", \"-…\n",
      "$ sensitivity_2        \u001b[3m\u001b[90m<chr>\u001b[39m\u001b[23m \"-99\", \"-99\", \"-99\", \"-99\", \"Very Sensitive 10\", …\n",
      "$ sensitivity_3        \u001b[3m\u001b[90m<chr>\u001b[39m\u001b[23m \"-99\", \"8\", \"-99\", \"Very Sensitive 10\", \"Very Sen…\n",
      "$ sensitivity_4        \u001b[3m\u001b[90m<chr>\u001b[39m\u001b[23m \"2\", \"-99\", \"-99\", \"-99\", \"Very Sensitive 10\", \"V…\n",
      "$ sensitivity_5        \u001b[3m\u001b[90m<chr>\u001b[39m\u001b[23m \"6\", \"Very Sensitive 10\", \"-99\", \"Very Sensitive …\n",
      "$ sensitivity_6        \u001b[3m\u001b[90m<chr>\u001b[39m\u001b[23m \"4\", \"Very Sensitive 10\", \"-99\", \"-99\", \"Very Sen…\n",
      "$ sensitivity_7        \u001b[3m\u001b[90m<chr>\u001b[39m\u001b[23m \"-99\", \"7\", \"-99\", \"-99\", \"8\", \"-99\", \"Not Sensit…\n",
      "$ sensitivity_8        \u001b[3m\u001b[90m<chr>\u001b[39m\u001b[23m \"Not Sensitive 1\", \"6\", \"-99\", \"-99\", \"6\", \"-99\",…\n",
      "$ sensitivity_9        \u001b[3m\u001b[90m<chr>\u001b[39m\u001b[23m \"-99\", \"Not Sensitive 1\", \"Very Sensitive 10\", \"-…\n",
      "$ sensitivity_10       \u001b[3m\u001b[90m<chr>\u001b[39m\u001b[23m \"-99\", \"-99\", \"-99\", \"-99\", \"6\", \"-99\", \"Not Sens…\n",
      "$ sensitivity_11       \u001b[3m\u001b[90m<chr>\u001b[39m\u001b[23m \"-99\", \"Very Sensitive 10\", \"-99\", \"-99\", \"6\", \"-…\n",
      "$ sensitivity_12       \u001b[3m\u001b[90m<chr>\u001b[39m\u001b[23m \"-99\", \"Very Sensitive 10\", \"-99\", \"-99\", \"4\", \"-…\n",
      "$ sensitivity_13       \u001b[3m\u001b[90m<chr>\u001b[39m\u001b[23m \"-99\", \"Very Sensitive 10\", \"-99\", \"-99\", \"Very S…\n",
      "$ sensitivity_14       \u001b[3m\u001b[90m<chr>\u001b[39m\u001b[23m \"-99\", \"Very Sensitive 10\", \"-99\", \"-99\", \"Very S…\n",
      "$ sensitivity_15       \u001b[3m\u001b[90m<chr>\u001b[39m\u001b[23m \"4\", \"Very Sensitive 10\", \"-99\", \"-99\", \"Very Sen…\n",
      "$ sensitivity_16       \u001b[3m\u001b[90m<chr>\u001b[39m\u001b[23m \"-99\", \"8\", \"-99\", \"-99\", \"4\", \"-99\", \"Not Sensit…\n",
      "$ trust_1              \u001b[3m\u001b[90m<chr>\u001b[39m\u001b[23m \"2\", \"2\", \"Complete Trust - 7\", \"5\", \"4\", \"4\", \"C…\n",
      "$ trust_2              \u001b[3m\u001b[90m<chr>\u001b[39m\u001b[23m \"5\", \"Complete Trust - 7\", \"Complete Trust - 7\", …\n",
      "$ trust_3              \u001b[3m\u001b[90m<chr>\u001b[39m\u001b[23m \"3\", \"Complete Trust - 7\", \"Complete Trust - 7\", …\n",
      "$ trust_4              \u001b[3m\u001b[90m<chr>\u001b[39m\u001b[23m \"4\", \"No trust at all - 1\", \"Complete Trust - 7\",…\n",
      "$ trust_5              \u001b[3m\u001b[90m<chr>\u001b[39m\u001b[23m \"4\", \"No trust at all - 1\", \"6\", \"-99\", \"3\", \"-99…\n",
      "$ trust_6              \u001b[3m\u001b[90m<chr>\u001b[39m\u001b[23m \"4\", \"2\", \"4\", \"-99\", \"No trust at all - 1\", \"-99…\n",
      "$ privacy_behaviors_1  \u001b[3m\u001b[90m<chr>\u001b[39m\u001b[23m \"Never\", \"Always\", \"Sometimes\", \"-99\", \"Sometimes…\n",
      "$ privacy_behaviors_2  \u001b[3m\u001b[90m<chr>\u001b[39m\u001b[23m \"Never\", \"Sometimes\", \"Always\", \"Sometimes\", \"Som…\n",
      "$ privacy_behaviors_3  \u001b[3m\u001b[90m<chr>\u001b[39m\u001b[23m \"Sometimes\", \"Always\", \"Always\", \"Sometimes\", \"Al…\n",
      "$ privacy_behaviors_4  \u001b[3m\u001b[90m<chr>\u001b[39m\u001b[23m \"Sometimes\", \"Sometimes\", \"Sometimes\", \"-99\", \"So…\n",
      "$ privacy_behaviors_5  \u001b[3m\u001b[90m<chr>\u001b[39m\u001b[23m \"Always\", \"Sometimes\", \"Always\", \"-99\", \"Sometime…\n",
      "$ privacy_behaviors_6  \u001b[3m\u001b[90m<chr>\u001b[39m\u001b[23m \"Never\", \"Sometimes\", \"Always\", \"Sometimes\", \"Alw…\n",
      "$ privacy_behaviors_7  \u001b[3m\u001b[90m<chr>\u001b[39m\u001b[23m \"Never\", \"Sometimes\", \"Sometimes\", \"-99\", \"Always…\n",
      "$ source               \u001b[3m\u001b[90m<chr>\u001b[39m\u001b[23m \"qualtrics\", \"qualtrics\", \"qualtrics\", \"qualtrics…\n"
     ]
    }
   ],
   "source": [
    "glimpse(df)"
   ]
  },
  {
   "cell_type": "markdown",
   "metadata": {},
   "source": [
    "# Handling Missing"
   ]
  },
  {
   "cell_type": "code",
   "execution_count": 6,
   "metadata": {},
   "outputs": [],
   "source": [
    "df <- df %>%\n",
    "    replace_with_na_all(condition = ~.x == -99)"
   ]
  },
  {
   "cell_type": "markdown",
   "metadata": {},
   "source": [
    "# Recode and Relevel\n",
    "\n",
    "We need to recode many `chr` variables to `factor` and to relevel/reorder the levels to go from low to high. We start with all the Likert scales and yes/no questions."
   ]
  },
  {
   "cell_type": "code",
   "execution_count": 7,
   "metadata": {},
   "outputs": [],
   "source": [
    "agreelevel <- c(\"Disagree\", \"Neither Agree Nor Disagree\", \"Agree\")\n",
    "agreelevel_case <- c(\"Disagree\", \"Neither agree nor disagree\", \"Agree\")\n",
    "importlevel <- c(\"Not important\", \"Neither important nor unimportant\", \"Important\")\n",
    "ynlevel <- c(\"No\", \"Yes\", \"I'm not sure.\")\n",
    "freqlevel <- c(\"Never\", \"Sometimes\", \"Always\")\n",
    "idealevel <-c (\"Bad idea\", \"I'm not sure\", \"Good idea\")\n",
    "oftenlevel <- c(\"Don't use at all\", \"Less Often\", \"Every Few Weeks\", \"A Few Times a Week\", \"About Once a Day\", \"Several Times a Day\")\n",
    "senslevel <- c(\"-99\",\"1\",\"2\",\"3\",\"4\",\"5\",\"6\",\"7\",\"8\",\"9\",\"10\")\n",
    "trustlevel <- c(\"-99\",\"1\",\"2\",\"3\",\"4\",\"5\",\"6\",\"7\")\n",
    "concernlevel <- c(\"Extremely Unconcerned\", \"Moderately Unconcerned\", \"Slightly Unconcerned\", \"Neither Concerned nor Unconcerned\",\n",
    "                 \"Slightly Concerned\", \"Moderately Concerned\", \"Extremely Concerned\")\n",
    "\n"
   ]
  },
  {
   "cell_type": "code",
   "execution_count": 8,
   "metadata": {},
   "outputs": [
    {
     "name": "stdout",
     "output_type": "stream",
     "text": [
      "Rows: 1,018\n",
      "Columns: 142\n",
      "$ responseid           \u001b[3m\u001b[90m<chr>\u001b[39m\u001b[23m \"R_3FXrXtg2n2GkeT4\", \"R_usoOyr9obtGrVYt\", \"R_12aM…\n",
      "$ distributionchannel  \u001b[3m\u001b[90m<chr>\u001b[39m\u001b[23m \"anonymous\", \"anonymous\", \"anonymous\", \"anonymous…\n",
      "$ q43                  \u001b[3m\u001b[90m<chr>\u001b[39m\u001b[23m \"Yes\", \"Yes\", \"Yes\", \"Yes\", \"Yes\", \"Yes\", \"Yes\", …\n",
      "$ social_media_use     \u001b[3m\u001b[90m<fct>\u001b[39m\u001b[23m Yes, Yes, Yes, Yes, Yes, Yes, Yes, Yes, Yes, Yes,…\n",
      "$ how_often_1          \u001b[3m\u001b[90m<ord>\u001b[39m\u001b[23m Several Times a Day, Several Times a Day, Several…\n",
      "$ how_often_2          \u001b[3m\u001b[90m<ord>\u001b[39m\u001b[23m A Few Times a Week, Several Times a Day, Several …\n",
      "$ how_often_3          \u001b[3m\u001b[90m<ord>\u001b[39m\u001b[23m A Few Times a Week, Don't use at all, Every Few W…\n",
      "$ how_often_4          \u001b[3m\u001b[90m<ord>\u001b[39m\u001b[23m About Once a Day, Don't use at all, Several Times…\n",
      "$ how_often_5          \u001b[3m\u001b[90m<ord>\u001b[39m\u001b[23m A Few Times a Week, Don't use at all, Every Few W…\n",
      "$ how_often_6          \u001b[3m\u001b[90m<ord>\u001b[39m\u001b[23m About Once a Day, Don't use at all, A Few Times a…\n",
      "$ how_often_7          \u001b[3m\u001b[90m<ord>\u001b[39m\u001b[23m About Once a Day, A Few Times a Week, A Few Times…\n",
      "$ how_often_8          \u001b[3m\u001b[90m<ord>\u001b[39m\u001b[23m Several Times a Day, Don't use at all, A Few Time…\n",
      "$ how_often_9          \u001b[3m\u001b[90m<ord>\u001b[39m\u001b[23m A Few Times a Week, Don't use at all, A Few Times…\n",
      "$ how_often_10         \u001b[3m\u001b[90m<ord>\u001b[39m\u001b[23m About Once a Day, Don't use at all, A Few Times a…\n",
      "$ how_often_11         \u001b[3m\u001b[90m<ord>\u001b[39m\u001b[23m About Once a Day, A Few Times a Week, About Once …\n",
      "$ tweets_public        \u001b[3m\u001b[90m<fct>\u001b[39m\u001b[23m No, NA, Yes, Yes, NA, Yes, NA, Yes, Yes, NA, Yes,…\n",
      "$ insta_public         \u001b[3m\u001b[90m<fct>\u001b[39m\u001b[23m No, Yes, Yes, Yes, NA, Yes, NA, Yes, Yes, Yes, Ye…\n",
      "$ researchers_1        \u001b[3m\u001b[90m<fct>\u001b[39m\u001b[23m Yes, Yes, Yes, NA, Yes, NA, Yes, No, No, No, Yes,…\n",
      "$ researchers_2        \u001b[3m\u001b[90m<fct>\u001b[39m\u001b[23m Yes, Yes, Yes, Yes, No, NA, Yes, No, No, Yes, Yes…\n",
      "$ researchers_3        \u001b[3m\u001b[90m<fct>\u001b[39m\u001b[23m No, No, Yes, NA, No, I'm not sure., Yes, No, No, …\n",
      "$ researchers_4        \u001b[3m\u001b[90m<fct>\u001b[39m\u001b[23m Yes, Yes, Yes, NA, No, NA, Yes, No, No, Yes, Yes,…\n",
      "$ researchers_5        \u001b[3m\u001b[90m<fct>\u001b[39m\u001b[23m Yes, No, Yes, NA, I'm not sure., NA, Yes, No, No,…\n",
      "$ researchers_6        \u001b[3m\u001b[90m<fct>\u001b[39m\u001b[23m NA, NA, NA, NA, NA, NA, NA, NA, NA, NA, NA, NA, N…\n",
      "$ researchers_7        \u001b[3m\u001b[90m<fct>\u001b[39m\u001b[23m Yes, No, Yes, NA, Yes, NA, Yes, Yes, No, No, Yes,…\n",
      "$ researchers_8        \u001b[3m\u001b[90m<fct>\u001b[39m\u001b[23m No, No, Yes, NA, No, NA, Yes, Yes, No, Yes, Yes, …\n",
      "$ researchers_9        \u001b[3m\u001b[90m<fct>\u001b[39m\u001b[23m Yes, No, Yes, NA, I'm not sure., NA, Yes, I'm not…\n",
      "$ researchers_10       \u001b[3m\u001b[90m<fct>\u001b[39m\u001b[23m Yes, Yes, Yes, NA, No, NA, Yes, Yes, No, I'm not …\n",
      "$ researchers_11       \u001b[3m\u001b[90m<fct>\u001b[39m\u001b[23m No, No, Yes, NA, No, NA, Yes, No, No, No, Yes, I'…\n",
      "$ researchers_12       \u001b[3m\u001b[90m<fct>\u001b[39m\u001b[23m Yes, No, Yes, NA, No, NA, Yes, No, I'm not sure.,…\n",
      "$ researchers_13       \u001b[3m\u001b[90m<fct>\u001b[39m\u001b[23m Yes, Yes, Yes, NA, No, NA, Yes, No, No, Yes, Yes,…\n",
      "$ researchers_14       \u001b[3m\u001b[90m<fct>\u001b[39m\u001b[23m No, No, Yes, NA, No, NA, Yes, No, No, No, Yes, Ye…\n",
      "$ researchers_15       \u001b[3m\u001b[90m<fct>\u001b[39m\u001b[23m Yes, Yes, Yes, NA, I'm not sure., NA, Yes, Yes, N…\n",
      "$ researchers_16       \u001b[3m\u001b[90m<fct>\u001b[39m\u001b[23m Yes, Yes, Yes, NA, I'm not sure., NA, Yes, Yes, N…\n",
      "$ researchers_17       \u001b[3m\u001b[90m<fct>\u001b[39m\u001b[23m Yes, No, Yes, NA, No, NA, Yes, No, No, Yes, Yes, …\n",
      "$ researchers_18       \u001b[3m\u001b[90m<fct>\u001b[39m\u001b[23m Yes, No, Yes, NA, No, NA, Yes, Yes, No, No, Yes, …\n",
      "$ researchers_19       \u001b[3m\u001b[90m<fct>\u001b[39m\u001b[23m Yes, No, Yes, NA, No, NA, Yes, No, No, No, Yes, Y…\n",
      "$ researchers_20       \u001b[3m\u001b[90m<fct>\u001b[39m\u001b[23m Yes, No, Yes, NA, I'm not sure., NA, Yes, No, No,…\n",
      "$ sm_companies_1       \u001b[3m\u001b[90m<fct>\u001b[39m\u001b[23m No, No, No, NA, Yes, NA, Yes, Yes, No, Yes, Yes, …\n",
      "$ sm_companies_2       \u001b[3m\u001b[90m<fct>\u001b[39m\u001b[23m Yes, Yes, Yes, NA, No, NA, Yes, No, No, Yes, Yes,…\n",
      "$ sm_companies_3       \u001b[3m\u001b[90m<fct>\u001b[39m\u001b[23m No, No, No, NA, No, NA, Yes, No, No, No, Yes, No,…\n",
      "$ sm_companies_4       \u001b[3m\u001b[90m<fct>\u001b[39m\u001b[23m No, Yes, No, NA, No, NA, Yes, No, No, Yes, Yes, N…\n",
      "$ sm_companies_5       \u001b[3m\u001b[90m<fct>\u001b[39m\u001b[23m NA, NA, NA, NA, NA, NA, NA, NA, NA, NA, NA, NA, N…\n",
      "$ sm_companies_6       \u001b[3m\u001b[90m<fct>\u001b[39m\u001b[23m No, No, No, NA, No, NA, Yes, No, No, Yes, Yes, Ye…\n",
      "$ sm_companies_7       \u001b[3m\u001b[90m<fct>\u001b[39m\u001b[23m Yes, No, Yes, NA, I'm not sure., NA, Yes, Yes, No…\n",
      "$ sm_companies_8       \u001b[3m\u001b[90m<fct>\u001b[39m\u001b[23m I'm not sure., No, Yes, NA, No, NA, Yes, No, No, …\n",
      "$ sm_companies_9       \u001b[3m\u001b[90m<fct>\u001b[39m\u001b[23m Yes, No, No, NA, No, NA, Yes, No, No, Yes, Yes, Y…\n",
      "$ sm_companies_10      \u001b[3m\u001b[90m<fct>\u001b[39m\u001b[23m Yes, Yes, Yes, NA, No, NA, Yes, I'm not sure., No…\n",
      "$ sm_companies_11      \u001b[3m\u001b[90m<fct>\u001b[39m\u001b[23m Yes, No, Yes, NA, No, NA, Yes, No, No, No, Yes, Y…\n",
      "$ sm_companies_12      \u001b[3m\u001b[90m<fct>\u001b[39m\u001b[23m Yes, No, Yes, NA, No, NA, Yes, No, No, No, Yes, Y…\n",
      "$ sm_companies_13      \u001b[3m\u001b[90m<fct>\u001b[39m\u001b[23m No, Yes, Yes, NA, No, I'm not sure., Yes, No, No,…\n",
      "$ sm_companies_14      \u001b[3m\u001b[90m<fct>\u001b[39m\u001b[23m Yes, No, Yes, NA, No, NA, Yes, No, No, No, Yes, N…\n",
      "$ sm_companies_15      \u001b[3m\u001b[90m<fct>\u001b[39m\u001b[23m Yes, Yes, No, Yes, I'm not sure., NA, Yes, No, No…\n",
      "$ sm_companies_16      \u001b[3m\u001b[90m<fct>\u001b[39m\u001b[23m Yes, Yes, Yes, NA, I'm not sure., NA, Yes, No, No…\n",
      "$ sm_companies_17      \u001b[3m\u001b[90m<fct>\u001b[39m\u001b[23m Yes, No, Yes, NA, No, NA, Yes, No, No, Yes, Yes, …\n",
      "$ sm_companies_18      \u001b[3m\u001b[90m<fct>\u001b[39m\u001b[23m No, No, No, NA, No, NA, Yes, No, No, Yes, Yes, Ye…\n",
      "$ sm_companies_19      \u001b[3m\u001b[90m<fct>\u001b[39m\u001b[23m No, No, Yes, NA, No, NA, Yes, No, No, No, Yes, I'…\n",
      "$ sm_companies_20      \u001b[3m\u001b[90m<fct>\u001b[39m\u001b[23m Yes, No, Yes, NA, I'm not sure., NA, Yes, No, No,…\n",
      "$ journalists_1        \u001b[3m\u001b[90m<fct>\u001b[39m\u001b[23m NA, NA, Yes, NA, No, No, No, No, No, Yes, Yes, I'…\n",
      "$ journalists_2        \u001b[3m\u001b[90m<fct>\u001b[39m\u001b[23m NA, NA, Yes, NA, No, I'm not sure., No, No, No, Y…\n",
      "$ journalists_3        \u001b[3m\u001b[90m<fct>\u001b[39m\u001b[23m NA, Yes, Yes, NA, No, No, No, No, No, Yes, Yes, N…\n",
      "$ journalists_4        \u001b[3m\u001b[90m<fct>\u001b[39m\u001b[23m NA, Yes, Yes, NA, No, No, No, No, No, No, Yes, I'…\n",
      "$ journalists_5        \u001b[3m\u001b[90m<fct>\u001b[39m\u001b[23m NA, NA, Yes, NA, No, I'm not sure., No, No, No, Y…\n",
      "$ journalists_6        \u001b[3m\u001b[90m<fct>\u001b[39m\u001b[23m NA, Yes, Yes, NA, No, I'm not sure., No, No, No, …\n",
      "$ journalists_7        \u001b[3m\u001b[90m<fct>\u001b[39m\u001b[23m NA, Yes, Yes, NA, No, Yes, No, No, No, No, Yes, I…\n",
      "$ journalists_8        \u001b[3m\u001b[90m<fct>\u001b[39m\u001b[23m NA, NA, Yes, NA, No, No, No, No, No, Yes, No, I'm…\n",
      "$ journalists_9        \u001b[3m\u001b[90m<fct>\u001b[39m\u001b[23m NA, No, Yes, NA, No, Yes, No, No, No, Yes, No, I'…\n",
      "$ journalists_10       \u001b[3m\u001b[90m<fct>\u001b[39m\u001b[23m NA, Yes, Yes, Yes, No, No, No, No, No, No, Yes, I…\n",
      "$ journalists_11       \u001b[3m\u001b[90m<fct>\u001b[39m\u001b[23m NA, NA, Yes, NA, No, No, No, No, No, No, Yes, I'm…\n",
      "$ journalists_12       \u001b[3m\u001b[90m<fct>\u001b[39m\u001b[23m Yes, Yes, Yes, NA, No, No, No, No, No, No, Yes, N…\n",
      "$ journalists_13       \u001b[3m\u001b[90m<fct>\u001b[39m\u001b[23m NA, Yes, Yes, NA, No, No, No, No, No, No, Yes, I'…\n",
      "$ journalists_14       \u001b[3m\u001b[90m<fct>\u001b[39m\u001b[23m NA, NA, Yes, NA, No, No, No, No, No, No, Yes, Yes…\n",
      "$ journalists_15       \u001b[3m\u001b[90m<fct>\u001b[39m\u001b[23m NA, Yes, Yes, NA, No, Yes, No, No, No, Yes, Yes, …\n",
      "$ journalists_16       \u001b[3m\u001b[90m<fct>\u001b[39m\u001b[23m NA, NA, Yes, NA, No, I'm not sure., No, No, No, Y…\n",
      "$ sometimes            \u001b[3m\u001b[90m<fct>\u001b[39m\u001b[23m Yes, Yes, Yes, Yes, Yes, Yes, Yes, Yes, Yes, Yes,…\n",
      "$ sometimes_text       \u001b[3m\u001b[90m<chr>\u001b[39m\u001b[23m \"yup\", \"I feel like some of these would have spec…\n",
      "$ digital_privacy_1    \u001b[3m\u001b[90m<ord>\u001b[39m\u001b[23m Disagree, Agree, Agree, Agree, Agree, Neither Agr…\n",
      "$ digital_privacy_2    \u001b[3m\u001b[90m<ord>\u001b[39m\u001b[23m Neither Agree Nor Disagree, Agree, Disagree, Agre…\n",
      "$ digital_privacy_3    \u001b[3m\u001b[90m<ord>\u001b[39m\u001b[23m Neither Agree Nor Disagree, Agree, Agree, Agree, …\n",
      "$ digital_privacy_4    \u001b[3m\u001b[90m<ord>\u001b[39m\u001b[23m Neither Agree Nor Disagree, Agree, Disagree, Agre…\n",
      "$ social_science       \u001b[3m\u001b[90m<ord>\u001b[39m\u001b[23m NA, NA, NA, NA, NA, NA, NA, NA, NA, NA, NA, NA, N…\n",
      "$ data_archive_1       \u001b[3m\u001b[90m<ord>\u001b[39m\u001b[23m Neither important nor unimportant, Important, Imp…\n",
      "$ data_archive_2       \u001b[3m\u001b[90m<ord>\u001b[39m\u001b[23m Not important, Neither important nor unimportant,…\n",
      "$ data_archive_3       \u001b[3m\u001b[90m<ord>\u001b[39m\u001b[23m Neither important nor unimportant, Important, Imp…\n",
      "$ data_archive_4       \u001b[3m\u001b[90m<ord>\u001b[39m\u001b[23m Not important, Important, Important, NA, Neither …\n",
      "$ data_archive_5       \u001b[3m\u001b[90m<ord>\u001b[39m\u001b[23m Neither important nor unimportant, Important, Imp…\n",
      "$ secure_archive       \u001b[3m\u001b[90m<fct>\u001b[39m\u001b[23m NA, NA, NA, NA, NA, NA, NA, NA, NA, NA, NA, NA, N…\n",
      "$ anonymous_archive    \u001b[3m\u001b[90m<ord>\u001b[39m\u001b[23m NA, NA, NA, NA, NA, NA, NA, NA, NA, NA, NA, NA, N…\n",
      "$ concern_misuse       \u001b[3m\u001b[90m<ord>\u001b[39m\u001b[23m NA, NA, NA, NA, NA, NA, NA, NA, NA, NA, NA, NA, N…\n",
      "$ concern_harm         \u001b[3m\u001b[90m<ord>\u001b[39m\u001b[23m NA, NA, NA, NA, NA, NA, NA, NA, NA, NA, NA, NA, N…\n",
      "$ age                  \u001b[3m\u001b[90m<chr>\u001b[39m\u001b[23m \"25 - 34\", \"35 - 44\", \"35 - 44\", \"75 - 84\", \"75 -…\n",
      "$ gender_identity_1    \u001b[3m\u001b[90m<chr>\u001b[39m\u001b[23m NA, \"0\", \"0\", \"Woman\", \"Woman\", \"Woman\", \"0\", \"Wo…\n",
      "$ gender_identity_2    \u001b[3m\u001b[90m<chr>\u001b[39m\u001b[23m NA, \"0\", \"Man\", \"Man\", \"0\", \"0\", \"Man\", \"0\", \"Man…\n",
      "$ gender_identity_3    \u001b[3m\u001b[90m<chr>\u001b[39m\u001b[23m NA, \"0\", \"0\", \"Transgender\", \"0\", \"0\", \"0\", \"0\", …\n",
      "$ gender_identity_4    \u001b[3m\u001b[90m<chr>\u001b[39m\u001b[23m NA, \"Nonbinary/genderqueer\", \"0\", \"Nonbinary/gend…\n",
      "$ gender_identity_5    \u001b[3m\u001b[90m<chr>\u001b[39m\u001b[23m NA, \"0\", \"0\", \"0\", \"0\", \"0\", \"0\", \"0\", \"0\", \"0\", …\n",
      "$ gender_identity_6    \u001b[3m\u001b[90m<chr>\u001b[39m\u001b[23m NA, \"0\", \"0\", \"0\", \"0\", \"0\", \"0\", \"0\", \"0\", \"0\", …\n",
      "$ sexual_orientation_1 \u001b[3m\u001b[90m<chr>\u001b[39m\u001b[23m NA, \"0\", \"0\", \"0\", \"0\", \"0\", \"Gay or lesbian\", \"0…\n",
      "$ sexual_orientation_2 \u001b[3m\u001b[90m<chr>\u001b[39m\u001b[23m NA, \"0\", \"Heterosexual (straight)\", \"Heterosexual…\n",
      "$ sexual_orientation_3 \u001b[3m\u001b[90m<chr>\u001b[39m\u001b[23m NA, \"0\", \"0\", \"Bisexual\", \"0\", \"0\", \"0\", \"0\", \"0\"…\n",
      "$ sexual_orientation_4 \u001b[3m\u001b[90m<chr>\u001b[39m\u001b[23m NA, \"0\", \"0\", \"Prefer not to answer\", \"0\", \"0\", \"…\n",
      "$ sexual_orientation_5 \u001b[3m\u001b[90m<chr>\u001b[39m\u001b[23m NA, \"Something else\", \"0\", \"0\", \"0\", \"0\", \"0\", \"0…\n",
      "$ race_ethnicity_1     \u001b[3m\u001b[90m<chr>\u001b[39m\u001b[23m \"0\", \"0\", \"0\", \"0\", \"0\", \"0\", \"0\", \"0\", \"0\", \"0\",…\n",
      "$ race_ethnicity_2     \u001b[3m\u001b[90m<chr>\u001b[39m\u001b[23m \"0\", \"0\", \"0\", \"0\", \"0\", \"0\", \"0\", \"0\", \"0\", \"0\",…\n",
      "$ race_ethnicity_3     \u001b[3m\u001b[90m<chr>\u001b[39m\u001b[23m \"0\", \"0\", \"0\", \"0\", \"0\", \"0\", \"0\", \"0\", \"0\", \"0\",…\n",
      "$ race_ethnicity_4     \u001b[3m\u001b[90m<chr>\u001b[39m\u001b[23m \"0\", \"0\", \"0\", \"0\", \"0\", \"0\", \"0\", \"0\", \"0\", \"His…\n",
      "$ race_ethnicity_5     \u001b[3m\u001b[90m<chr>\u001b[39m\u001b[23m \"0\", \"0\", \"0\", \"0\", \"0\", \"0\", \"0\", \"0\", \"0\", \"0\",…\n",
      "$ race_ethnicity_6     \u001b[3m\u001b[90m<chr>\u001b[39m\u001b[23m \"Native Hawaiian or other Pacific Islander\", \"0\",…\n",
      "$ race_ethnicity_7     \u001b[3m\u001b[90m<chr>\u001b[39m\u001b[23m \"0\", \"White\", \"White\", \"White\", \"White\", \"White\",…\n",
      "$ race_ethnicity_8     \u001b[3m\u001b[90m<chr>\u001b[39m\u001b[23m \"0\", \"0\", \"0\", \"0\", \"0\", \"0\", \"0\", \"0\", \"0\", \"0\",…\n",
      "$ race_ethnicity_9     \u001b[3m\u001b[90m<chr>\u001b[39m\u001b[23m \"0\", \"0\", \"0\", \"0\", \"0\", \"0\", \"0\", \"0\", \"0\", \"0\",…\n",
      "$ education            \u001b[3m\u001b[90m<chr>\u001b[39m\u001b[23m \"High school graduate - high school diploma or eq…\n",
      "$ income               \u001b[3m\u001b[90m<chr>\u001b[39m\u001b[23m \"$40,000 - $49,999\", \"Less than $10,000\", \"$100,0…\n",
      "$ sensitivity_1        \u001b[3m\u001b[90m<ord>\u001b[39m\u001b[23m 3, NA, NA, NA, 10, NA, 10, 10, 10, NA, 10, NA, 4,…\n",
      "$ sensitivity_2        \u001b[3m\u001b[90m<ord>\u001b[39m\u001b[23m NA, NA, NA, NA, 10, NA, 1, 10, 10, NA, 6, NA, 7, …\n",
      "$ sensitivity_3        \u001b[3m\u001b[90m<ord>\u001b[39m\u001b[23m NA, 8, NA, 10, 10, NA, 1, 10, 10, NA, 10, NA, 5, …\n",
      "$ sensitivity_4        \u001b[3m\u001b[90m<ord>\u001b[39m\u001b[23m 2, NA, NA, NA, 10, 10, 1, 10, 10, 6, 10, NA, 5, 9…\n",
      "$ sensitivity_5        \u001b[3m\u001b[90m<ord>\u001b[39m\u001b[23m 6, 10, NA, 10, 10, NA, 1, 10, 10, NA, 10, NA, 7, …\n",
      "$ sensitivity_6        \u001b[3m\u001b[90m<ord>\u001b[39m\u001b[23m 4, 10, NA, NA, 10, NA, 1, 10, 10, NA, 10, 1, 8, 5…\n",
      "$ sensitivity_7        \u001b[3m\u001b[90m<ord>\u001b[39m\u001b[23m NA, 7, NA, NA, 8, NA, 1, 10, 10, NA, 9, NA, 7, 2,…\n",
      "$ sensitivity_8        \u001b[3m\u001b[90m<ord>\u001b[39m\u001b[23m 1, 6, NA, NA, 6, NA, 1, 10, 1, NA, 10, NA, 7, 5, …\n",
      "$ sensitivity_9        \u001b[3m\u001b[90m<ord>\u001b[39m\u001b[23m NA, 1, 10, NA, 4, NA, 1, 10, 1, NA, 9, NA, 4, 5, …\n",
      "$ sensitivity_10       \u001b[3m\u001b[90m<ord>\u001b[39m\u001b[23m NA, NA, NA, NA, 6, NA, 1, 10, 1, NA, 9, NA, 5, 1,…\n",
      "$ sensitivity_11       \u001b[3m\u001b[90m<ord>\u001b[39m\u001b[23m NA, 10, NA, NA, 6, NA, 1, 10, 1, NA, 10, NA, 5, 2…\n",
      "$ sensitivity_12       \u001b[3m\u001b[90m<ord>\u001b[39m\u001b[23m NA, 10, NA, NA, 4, NA, 1, 10, 10, NA, 8, NA, 8, 3…\n",
      "$ sensitivity_13       \u001b[3m\u001b[90m<ord>\u001b[39m\u001b[23m NA, 10, NA, NA, 10, NA, 1, 10, 10, NA, 10, NA, 4,…\n",
      "$ sensitivity_14       \u001b[3m\u001b[90m<ord>\u001b[39m\u001b[23m NA, 10, NA, NA, 10, NA, 1, 10, 10, NA, 9, NA, 9, …\n",
      "$ sensitivity_15       \u001b[3m\u001b[90m<ord>\u001b[39m\u001b[23m 4, 10, NA, NA, 10, NA, 1, 10, 10, NA, 9, NA, 7, 5…\n",
      "$ sensitivity_16       \u001b[3m\u001b[90m<ord>\u001b[39m\u001b[23m NA, 8, NA, NA, 4, NA, 1, 10, 10, NA, 10, NA, 7, 8…\n",
      "$ trust_1              \u001b[3m\u001b[90m<ord>\u001b[39m\u001b[23m 2, 2, NA, 5, 4, 4, NA, 4, 5, 5, 6, 3, 3, NA, NA, …\n",
      "$ trust_2              \u001b[3m\u001b[90m<ord>\u001b[39m\u001b[23m 5, NA, NA, NA, 3, NA, 3, 4, NA, 5, 6, 2, 4, NA, 3…\n",
      "$ trust_3              \u001b[3m\u001b[90m<ord>\u001b[39m\u001b[23m 3, NA, NA, NA, 4, NA, 6, 6, NA, 3, NA, NA, 5, NA,…\n",
      "$ trust_4              \u001b[3m\u001b[90m<ord>\u001b[39m\u001b[23m 4, NA, NA, NA, 3, NA, 6, NA, NA, 3, NA, 3, 2, 6, …\n",
      "$ trust_5              \u001b[3m\u001b[90m<ord>\u001b[39m\u001b[23m 4, NA, 6, NA, 3, NA, 4, NA, NA, 4, NA, 2, 3, 5, 4…\n",
      "$ trust_6              \u001b[3m\u001b[90m<ord>\u001b[39m\u001b[23m 4, 2, 4, NA, NA, NA, 3, NA, NA, 3, NA, 4, 5, 5, 5…\n",
      "$ privacy_behaviors_1  \u001b[3m\u001b[90m<ord>\u001b[39m\u001b[23m Never, Always, Sometimes, NA, Sometimes, NA, Some…\n",
      "$ privacy_behaviors_2  \u001b[3m\u001b[90m<ord>\u001b[39m\u001b[23m Never, Sometimes, Always, Sometimes, Sometimes, N…\n",
      "$ privacy_behaviors_3  \u001b[3m\u001b[90m<ord>\u001b[39m\u001b[23m Sometimes, Always, Always, Sometimes, Always, NA,…\n",
      "$ privacy_behaviors_4  \u001b[3m\u001b[90m<ord>\u001b[39m\u001b[23m Sometimes, Sometimes, Sometimes, NA, Sometimes, N…\n",
      "$ privacy_behaviors_5  \u001b[3m\u001b[90m<ord>\u001b[39m\u001b[23m Always, Sometimes, Always, NA, Sometimes, NA, Som…\n",
      "$ privacy_behaviors_6  \u001b[3m\u001b[90m<ord>\u001b[39m\u001b[23m Never, Sometimes, Always, Sometimes, Always, Alwa…\n",
      "$ privacy_behaviors_7  \u001b[3m\u001b[90m<ord>\u001b[39m\u001b[23m Never, Sometimes, Sometimes, NA, Always, NA, Alwa…\n",
      "$ source               \u001b[3m\u001b[90m<chr>\u001b[39m\u001b[23m \"qualtrics\", \"qualtrics\", \"qualtrics\", \"qualtrics…\n"
     ]
    }
   ],
   "source": [
    "df <- df %>%\n",
    "    mutate_at(vars(starts_with(\"trust_\")),\n",
    "              list(~factor(., levels = trustlevel, ordered = TRUE))) %>%\n",
    "    mutate_at(vars(starts_with(\"trust_\")),\n",
    "              list(~recode(., \"Complete Trust - 7\" = \"7\", \"No trust at all - 1\" = \"1\"))) %>%\n",
    "    mutate_at(vars(starts_with(\"sensitivity\")),\n",
    "             list(~recode(., \"Very Sensitive 10\" = \"10\", \"Not Sensitive 1\" = \"1\"))) %>%\n",
    "    mutate_at(vars(starts_with(\"sensitivity\")),\n",
    "             list(~factor(., levels = senslevel, ordered = TRUE))) %>%\n",
    "    mutate_at(vars(starts_with(\"digital_privacy\")),\n",
    "             list(~factor(., levels = agreelevel, ordered = TRUE))) %>%\n",
    "    mutate_at(vars(starts_with(\"data_archive\")),\n",
    "             list(~factor(., levels = importlevel, ordered = TRUE ))) %>%\n",
    "    mutate_at(vars(starts_with(\"researchers_\")),\n",
    "             list(~factor(., levels = ynlevel, ordered = FALSE))) %>%\n",
    "    mutate_at(vars(starts_with(\"sm_companies_\")),\n",
    "             list(~factor(., levels = ynlevel, ordered = FALSE))) %>%\n",
    "    mutate_at(vars(starts_with(\"journalists_\")),\n",
    "             list(~factor(., levels = ynlevel, ordered = FALSE))) %>%\n",
    "    mutate_at(vars(starts_with(\"privacy_behaviors\")),\n",
    "             list(~factor(., levels = freqlevel, ordered = TRUE))) %>%\n",
    "    mutate_at(vars(starts_with(\"how_often\")),\n",
    "             list(~factor(., levels = oftenlevel, ordered = TRUE))) %>%\n",
    "    mutate(secure_archive = factor(secure_archive, levels = idealevel, ordered = FALSE)) %>%\n",
    "    mutate(anonymous_archive = factor(anonymous_archive, levels = idealevel, ordered = TRUE)) %>%\n",
    "    mutate(social_science = factor(social_science, levels = agreelevel_case, ordered = TRUE)) %>%\n",
    "    mutate(social_media_use = factor(social_media_use, levels = ynlevel, ordered = FALSE)) %>%\n",
    "    mutate(sometimes = factor(sometimes, levels = ynlevel, ordered = FALSE)) %>%\n",
    "    mutate(social_media_use = factor(social_media_use, levels = ynlevel, ordered = FALSE)) %>%\n",
    "    mutate(tweets_public = factor(tweets_public, levels = ynlevel, ordered = FALSE)) %>%\n",
    "    mutate(insta_public = factor(insta_public, levels = ynlevel, ordered = FALSE)) %>%\n",
    "    rename(concern_misuse = `concern-misuse`) %>%\n",
    "    rename(concern_harm = `concern-harm`) %>%\n",
    "    mutate_at(vars(starts_with(\"concern_\")),\n",
    "             list(~factor(., levels = concernlevel, ordered = TRUE))) %>%\n",
    "    glimpse()"
   ]
  },
  {
   "cell_type": "markdown",
   "metadata": {},
   "source": [
    "## Create scales of trust, digital privacy, and privacy behaviors"
   ]
  },
  {
   "cell_type": "code",
   "execution_count": 9,
   "metadata": {},
   "outputs": [
    {
     "name": "stdout",
     "output_type": "stream",
     "text": [
      "Rows: 1,018\n",
      "Columns: 145\n",
      "$ responseid           \u001b[3m\u001b[90m<chr>\u001b[39m\u001b[23m \"R_3FXrXtg2n2GkeT4\", \"R_usoOyr9obtGrVYt\", \"R_12aM…\n",
      "$ distributionchannel  \u001b[3m\u001b[90m<chr>\u001b[39m\u001b[23m \"anonymous\", \"anonymous\", \"anonymous\", \"anonymous…\n",
      "$ q43                  \u001b[3m\u001b[90m<chr>\u001b[39m\u001b[23m \"Yes\", \"Yes\", \"Yes\", \"Yes\", \"Yes\", \"Yes\", \"Yes\", …\n",
      "$ social_media_use     \u001b[3m\u001b[90m<fct>\u001b[39m\u001b[23m Yes, Yes, Yes, Yes, Yes, Yes, Yes, Yes, Yes, Yes,…\n",
      "$ how_often_1          \u001b[3m\u001b[90m<ord>\u001b[39m\u001b[23m Several Times a Day, Several Times a Day, Several…\n",
      "$ how_often_2          \u001b[3m\u001b[90m<ord>\u001b[39m\u001b[23m A Few Times a Week, Several Times a Day, Several …\n",
      "$ how_often_3          \u001b[3m\u001b[90m<ord>\u001b[39m\u001b[23m A Few Times a Week, Don't use at all, Every Few W…\n",
      "$ how_often_4          \u001b[3m\u001b[90m<ord>\u001b[39m\u001b[23m About Once a Day, Don't use at all, Several Times…\n",
      "$ how_often_5          \u001b[3m\u001b[90m<ord>\u001b[39m\u001b[23m A Few Times a Week, Don't use at all, Every Few W…\n",
      "$ how_often_6          \u001b[3m\u001b[90m<ord>\u001b[39m\u001b[23m About Once a Day, Don't use at all, A Few Times a…\n",
      "$ how_often_7          \u001b[3m\u001b[90m<ord>\u001b[39m\u001b[23m About Once a Day, A Few Times a Week, A Few Times…\n",
      "$ how_often_8          \u001b[3m\u001b[90m<ord>\u001b[39m\u001b[23m Several Times a Day, Don't use at all, A Few Time…\n",
      "$ how_often_9          \u001b[3m\u001b[90m<ord>\u001b[39m\u001b[23m A Few Times a Week, Don't use at all, A Few Times…\n",
      "$ how_often_10         \u001b[3m\u001b[90m<ord>\u001b[39m\u001b[23m About Once a Day, Don't use at all, A Few Times a…\n",
      "$ how_often_11         \u001b[3m\u001b[90m<ord>\u001b[39m\u001b[23m About Once a Day, A Few Times a Week, About Once …\n",
      "$ tweets_public        \u001b[3m\u001b[90m<fct>\u001b[39m\u001b[23m No, NA, Yes, Yes, NA, Yes, NA, Yes, Yes, NA, Yes,…\n",
      "$ insta_public         \u001b[3m\u001b[90m<fct>\u001b[39m\u001b[23m No, Yes, Yes, Yes, NA, Yes, NA, Yes, Yes, Yes, Ye…\n",
      "$ researchers_1        \u001b[3m\u001b[90m<fct>\u001b[39m\u001b[23m Yes, Yes, Yes, NA, Yes, NA, Yes, No, No, No, Yes,…\n",
      "$ researchers_2        \u001b[3m\u001b[90m<fct>\u001b[39m\u001b[23m Yes, Yes, Yes, Yes, No, NA, Yes, No, No, Yes, Yes…\n",
      "$ researchers_3        \u001b[3m\u001b[90m<fct>\u001b[39m\u001b[23m No, No, Yes, NA, No, I'm not sure., Yes, No, No, …\n",
      "$ researchers_4        \u001b[3m\u001b[90m<fct>\u001b[39m\u001b[23m Yes, Yes, Yes, NA, No, NA, Yes, No, No, Yes, Yes,…\n",
      "$ researchers_5        \u001b[3m\u001b[90m<fct>\u001b[39m\u001b[23m Yes, No, Yes, NA, I'm not sure., NA, Yes, No, No,…\n",
      "$ researchers_6        \u001b[3m\u001b[90m<fct>\u001b[39m\u001b[23m NA, NA, NA, NA, NA, NA, NA, NA, NA, NA, NA, NA, N…\n",
      "$ researchers_7        \u001b[3m\u001b[90m<fct>\u001b[39m\u001b[23m Yes, No, Yes, NA, Yes, NA, Yes, Yes, No, No, Yes,…\n",
      "$ researchers_8        \u001b[3m\u001b[90m<fct>\u001b[39m\u001b[23m No, No, Yes, NA, No, NA, Yes, Yes, No, Yes, Yes, …\n",
      "$ researchers_9        \u001b[3m\u001b[90m<fct>\u001b[39m\u001b[23m Yes, No, Yes, NA, I'm not sure., NA, Yes, I'm not…\n",
      "$ researchers_10       \u001b[3m\u001b[90m<fct>\u001b[39m\u001b[23m Yes, Yes, Yes, NA, No, NA, Yes, Yes, No, I'm not …\n",
      "$ researchers_11       \u001b[3m\u001b[90m<fct>\u001b[39m\u001b[23m No, No, Yes, NA, No, NA, Yes, No, No, No, Yes, I'…\n",
      "$ researchers_12       \u001b[3m\u001b[90m<fct>\u001b[39m\u001b[23m Yes, No, Yes, NA, No, NA, Yes, No, I'm not sure.,…\n",
      "$ researchers_13       \u001b[3m\u001b[90m<fct>\u001b[39m\u001b[23m Yes, Yes, Yes, NA, No, NA, Yes, No, No, Yes, Yes,…\n",
      "$ researchers_14       \u001b[3m\u001b[90m<fct>\u001b[39m\u001b[23m No, No, Yes, NA, No, NA, Yes, No, No, No, Yes, Ye…\n",
      "$ researchers_15       \u001b[3m\u001b[90m<fct>\u001b[39m\u001b[23m Yes, Yes, Yes, NA, I'm not sure., NA, Yes, Yes, N…\n",
      "$ researchers_16       \u001b[3m\u001b[90m<fct>\u001b[39m\u001b[23m Yes, Yes, Yes, NA, I'm not sure., NA, Yes, Yes, N…\n",
      "$ researchers_17       \u001b[3m\u001b[90m<fct>\u001b[39m\u001b[23m Yes, No, Yes, NA, No, NA, Yes, No, No, Yes, Yes, …\n",
      "$ researchers_18       \u001b[3m\u001b[90m<fct>\u001b[39m\u001b[23m Yes, No, Yes, NA, No, NA, Yes, Yes, No, No, Yes, …\n",
      "$ researchers_19       \u001b[3m\u001b[90m<fct>\u001b[39m\u001b[23m Yes, No, Yes, NA, No, NA, Yes, No, No, No, Yes, Y…\n",
      "$ researchers_20       \u001b[3m\u001b[90m<fct>\u001b[39m\u001b[23m Yes, No, Yes, NA, I'm not sure., NA, Yes, No, No,…\n",
      "$ sm_companies_1       \u001b[3m\u001b[90m<fct>\u001b[39m\u001b[23m No, No, No, NA, Yes, NA, Yes, Yes, No, Yes, Yes, …\n",
      "$ sm_companies_2       \u001b[3m\u001b[90m<fct>\u001b[39m\u001b[23m Yes, Yes, Yes, NA, No, NA, Yes, No, No, Yes, Yes,…\n",
      "$ sm_companies_3       \u001b[3m\u001b[90m<fct>\u001b[39m\u001b[23m No, No, No, NA, No, NA, Yes, No, No, No, Yes, No,…\n",
      "$ sm_companies_4       \u001b[3m\u001b[90m<fct>\u001b[39m\u001b[23m No, Yes, No, NA, No, NA, Yes, No, No, Yes, Yes, N…\n",
      "$ sm_companies_5       \u001b[3m\u001b[90m<fct>\u001b[39m\u001b[23m NA, NA, NA, NA, NA, NA, NA, NA, NA, NA, NA, NA, N…\n",
      "$ sm_companies_6       \u001b[3m\u001b[90m<fct>\u001b[39m\u001b[23m No, No, No, NA, No, NA, Yes, No, No, Yes, Yes, Ye…\n",
      "$ sm_companies_7       \u001b[3m\u001b[90m<fct>\u001b[39m\u001b[23m Yes, No, Yes, NA, I'm not sure., NA, Yes, Yes, No…\n",
      "$ sm_companies_8       \u001b[3m\u001b[90m<fct>\u001b[39m\u001b[23m I'm not sure., No, Yes, NA, No, NA, Yes, No, No, …\n",
      "$ sm_companies_9       \u001b[3m\u001b[90m<fct>\u001b[39m\u001b[23m Yes, No, No, NA, No, NA, Yes, No, No, Yes, Yes, Y…\n",
      "$ sm_companies_10      \u001b[3m\u001b[90m<fct>\u001b[39m\u001b[23m Yes, Yes, Yes, NA, No, NA, Yes, I'm not sure., No…\n",
      "$ sm_companies_11      \u001b[3m\u001b[90m<fct>\u001b[39m\u001b[23m Yes, No, Yes, NA, No, NA, Yes, No, No, No, Yes, Y…\n",
      "$ sm_companies_12      \u001b[3m\u001b[90m<fct>\u001b[39m\u001b[23m Yes, No, Yes, NA, No, NA, Yes, No, No, No, Yes, Y…\n",
      "$ sm_companies_13      \u001b[3m\u001b[90m<fct>\u001b[39m\u001b[23m No, Yes, Yes, NA, No, I'm not sure., Yes, No, No,…\n",
      "$ sm_companies_14      \u001b[3m\u001b[90m<fct>\u001b[39m\u001b[23m Yes, No, Yes, NA, No, NA, Yes, No, No, No, Yes, N…\n",
      "$ sm_companies_15      \u001b[3m\u001b[90m<fct>\u001b[39m\u001b[23m Yes, Yes, No, Yes, I'm not sure., NA, Yes, No, No…\n",
      "$ sm_companies_16      \u001b[3m\u001b[90m<fct>\u001b[39m\u001b[23m Yes, Yes, Yes, NA, I'm not sure., NA, Yes, No, No…\n",
      "$ sm_companies_17      \u001b[3m\u001b[90m<fct>\u001b[39m\u001b[23m Yes, No, Yes, NA, No, NA, Yes, No, No, Yes, Yes, …\n",
      "$ sm_companies_18      \u001b[3m\u001b[90m<fct>\u001b[39m\u001b[23m No, No, No, NA, No, NA, Yes, No, No, Yes, Yes, Ye…\n",
      "$ sm_companies_19      \u001b[3m\u001b[90m<fct>\u001b[39m\u001b[23m No, No, Yes, NA, No, NA, Yes, No, No, No, Yes, I'…\n",
      "$ sm_companies_20      \u001b[3m\u001b[90m<fct>\u001b[39m\u001b[23m Yes, No, Yes, NA, I'm not sure., NA, Yes, No, No,…\n",
      "$ journalists_1        \u001b[3m\u001b[90m<fct>\u001b[39m\u001b[23m NA, NA, Yes, NA, No, No, No, No, No, Yes, Yes, I'…\n",
      "$ journalists_2        \u001b[3m\u001b[90m<fct>\u001b[39m\u001b[23m NA, NA, Yes, NA, No, I'm not sure., No, No, No, Y…\n",
      "$ journalists_3        \u001b[3m\u001b[90m<fct>\u001b[39m\u001b[23m NA, Yes, Yes, NA, No, No, No, No, No, Yes, Yes, N…\n",
      "$ journalists_4        \u001b[3m\u001b[90m<fct>\u001b[39m\u001b[23m NA, Yes, Yes, NA, No, No, No, No, No, No, Yes, I'…\n",
      "$ journalists_5        \u001b[3m\u001b[90m<fct>\u001b[39m\u001b[23m NA, NA, Yes, NA, No, I'm not sure., No, No, No, Y…\n",
      "$ journalists_6        \u001b[3m\u001b[90m<fct>\u001b[39m\u001b[23m NA, Yes, Yes, NA, No, I'm not sure., No, No, No, …\n",
      "$ journalists_7        \u001b[3m\u001b[90m<fct>\u001b[39m\u001b[23m NA, Yes, Yes, NA, No, Yes, No, No, No, No, Yes, I…\n",
      "$ journalists_8        \u001b[3m\u001b[90m<fct>\u001b[39m\u001b[23m NA, NA, Yes, NA, No, No, No, No, No, Yes, No, I'm…\n",
      "$ journalists_9        \u001b[3m\u001b[90m<fct>\u001b[39m\u001b[23m NA, No, Yes, NA, No, Yes, No, No, No, Yes, No, I'…\n",
      "$ journalists_10       \u001b[3m\u001b[90m<fct>\u001b[39m\u001b[23m NA, Yes, Yes, Yes, No, No, No, No, No, No, Yes, I…\n",
      "$ journalists_11       \u001b[3m\u001b[90m<fct>\u001b[39m\u001b[23m NA, NA, Yes, NA, No, No, No, No, No, No, Yes, I'm…\n",
      "$ journalists_12       \u001b[3m\u001b[90m<fct>\u001b[39m\u001b[23m Yes, Yes, Yes, NA, No, No, No, No, No, No, Yes, N…\n",
      "$ journalists_13       \u001b[3m\u001b[90m<fct>\u001b[39m\u001b[23m NA, Yes, Yes, NA, No, No, No, No, No, No, Yes, I'…\n",
      "$ journalists_14       \u001b[3m\u001b[90m<fct>\u001b[39m\u001b[23m NA, NA, Yes, NA, No, No, No, No, No, No, Yes, Yes…\n",
      "$ journalists_15       \u001b[3m\u001b[90m<fct>\u001b[39m\u001b[23m NA, Yes, Yes, NA, No, Yes, No, No, No, Yes, Yes, …\n",
      "$ journalists_16       \u001b[3m\u001b[90m<fct>\u001b[39m\u001b[23m NA, NA, Yes, NA, No, I'm not sure., No, No, No, Y…\n",
      "$ sometimes            \u001b[3m\u001b[90m<fct>\u001b[39m\u001b[23m Yes, Yes, Yes, Yes, Yes, Yes, Yes, Yes, Yes, Yes,…\n",
      "$ sometimes_text       \u001b[3m\u001b[90m<chr>\u001b[39m\u001b[23m \"yup\", \"I feel like some of these would have spec…\n",
      "$ digital_privacy_1    \u001b[3m\u001b[90m<dbl>\u001b[39m\u001b[23m 1, 3, 3, 3, 3, 2, 1, 3, 3, 2, 3, 2, 3, 3, 2, 2, 3…\n",
      "$ digital_privacy_2    \u001b[3m\u001b[90m<dbl>\u001b[39m\u001b[23m 2, 3, 1, 3, 3, 3, 2, 3, 3, 2, 2, 2, 3, 2, 2, 3, 3…\n",
      "$ digital_privacy_3    \u001b[3m\u001b[90m<dbl>\u001b[39m\u001b[23m 2, 3, 3, 3, 3, 2, 2, 3, 3, 3, 3, 1, 3, 2, 1, 3, 3…\n",
      "$ digital_privacy_4    \u001b[3m\u001b[90m<dbl>\u001b[39m\u001b[23m 2, 3, 1, 3, 3, 3, 3, 3, 3, 1, 3, 3, 3, 1, 2, 3, 3…\n",
      "$ social_science       \u001b[3m\u001b[90m<ord>\u001b[39m\u001b[23m NA, NA, NA, NA, NA, NA, NA, NA, NA, NA, NA, NA, N…\n",
      "$ data_archive_1       \u001b[3m\u001b[90m<ord>\u001b[39m\u001b[23m Neither important nor unimportant, Important, Imp…\n",
      "$ data_archive_2       \u001b[3m\u001b[90m<ord>\u001b[39m\u001b[23m Not important, Neither important nor unimportant,…\n",
      "$ data_archive_3       \u001b[3m\u001b[90m<ord>\u001b[39m\u001b[23m Neither important nor unimportant, Important, Imp…\n",
      "$ data_archive_4       \u001b[3m\u001b[90m<ord>\u001b[39m\u001b[23m Not important, Important, Important, NA, Neither …\n",
      "$ data_archive_5       \u001b[3m\u001b[90m<ord>\u001b[39m\u001b[23m Neither important nor unimportant, Important, Imp…\n",
      "$ secure_archive       \u001b[3m\u001b[90m<fct>\u001b[39m\u001b[23m NA, NA, NA, NA, NA, NA, NA, NA, NA, NA, NA, NA, N…\n",
      "$ anonymous_archive    \u001b[3m\u001b[90m<ord>\u001b[39m\u001b[23m NA, NA, NA, NA, NA, NA, NA, NA, NA, NA, NA, NA, N…\n",
      "$ concern_misuse       \u001b[3m\u001b[90m<ord>\u001b[39m\u001b[23m NA, NA, NA, NA, NA, NA, NA, NA, NA, NA, NA, NA, N…\n",
      "$ concern_harm         \u001b[3m\u001b[90m<ord>\u001b[39m\u001b[23m NA, NA, NA, NA, NA, NA, NA, NA, NA, NA, NA, NA, N…\n",
      "$ age                  \u001b[3m\u001b[90m<chr>\u001b[39m\u001b[23m \"25 - 34\", \"35 - 44\", \"35 - 44\", \"75 - 84\", \"75 -…\n",
      "$ gender_identity_1    \u001b[3m\u001b[90m<chr>\u001b[39m\u001b[23m NA, \"0\", \"0\", \"Woman\", \"Woman\", \"Woman\", \"0\", \"Wo…\n",
      "$ gender_identity_2    \u001b[3m\u001b[90m<chr>\u001b[39m\u001b[23m NA, \"0\", \"Man\", \"Man\", \"0\", \"0\", \"Man\", \"0\", \"Man…\n",
      "$ gender_identity_3    \u001b[3m\u001b[90m<chr>\u001b[39m\u001b[23m NA, \"0\", \"0\", \"Transgender\", \"0\", \"0\", \"0\", \"0\", …\n",
      "$ gender_identity_4    \u001b[3m\u001b[90m<chr>\u001b[39m\u001b[23m NA, \"Nonbinary/genderqueer\", \"0\", \"Nonbinary/gend…\n",
      "$ gender_identity_5    \u001b[3m\u001b[90m<chr>\u001b[39m\u001b[23m NA, \"0\", \"0\", \"0\", \"0\", \"0\", \"0\", \"0\", \"0\", \"0\", …\n",
      "$ gender_identity_6    \u001b[3m\u001b[90m<chr>\u001b[39m\u001b[23m NA, \"0\", \"0\", \"0\", \"0\", \"0\", \"0\", \"0\", \"0\", \"0\", …\n",
      "$ sexual_orientation_1 \u001b[3m\u001b[90m<chr>\u001b[39m\u001b[23m NA, \"0\", \"0\", \"0\", \"0\", \"0\", \"Gay or lesbian\", \"0…\n",
      "$ sexual_orientation_2 \u001b[3m\u001b[90m<chr>\u001b[39m\u001b[23m NA, \"0\", \"Heterosexual (straight)\", \"Heterosexual…\n",
      "$ sexual_orientation_3 \u001b[3m\u001b[90m<chr>\u001b[39m\u001b[23m NA, \"0\", \"0\", \"Bisexual\", \"0\", \"0\", \"0\", \"0\", \"0\"…\n",
      "$ sexual_orientation_4 \u001b[3m\u001b[90m<chr>\u001b[39m\u001b[23m NA, \"0\", \"0\", \"Prefer not to answer\", \"0\", \"0\", \"…\n",
      "$ sexual_orientation_5 \u001b[3m\u001b[90m<chr>\u001b[39m\u001b[23m NA, \"Something else\", \"0\", \"0\", \"0\", \"0\", \"0\", \"0…\n",
      "$ race_ethnicity_1     \u001b[3m\u001b[90m<chr>\u001b[39m\u001b[23m \"0\", \"0\", \"0\", \"0\", \"0\", \"0\", \"0\", \"0\", \"0\", \"0\",…\n",
      "$ race_ethnicity_2     \u001b[3m\u001b[90m<chr>\u001b[39m\u001b[23m \"0\", \"0\", \"0\", \"0\", \"0\", \"0\", \"0\", \"0\", \"0\", \"0\",…\n",
      "$ race_ethnicity_3     \u001b[3m\u001b[90m<chr>\u001b[39m\u001b[23m \"0\", \"0\", \"0\", \"0\", \"0\", \"0\", \"0\", \"0\", \"0\", \"0\",…\n",
      "$ race_ethnicity_4     \u001b[3m\u001b[90m<chr>\u001b[39m\u001b[23m \"0\", \"0\", \"0\", \"0\", \"0\", \"0\", \"0\", \"0\", \"0\", \"His…\n",
      "$ race_ethnicity_5     \u001b[3m\u001b[90m<chr>\u001b[39m\u001b[23m \"0\", \"0\", \"0\", \"0\", \"0\", \"0\", \"0\", \"0\", \"0\", \"0\",…\n",
      "$ race_ethnicity_6     \u001b[3m\u001b[90m<chr>\u001b[39m\u001b[23m \"Native Hawaiian or other Pacific Islander\", \"0\",…\n",
      "$ race_ethnicity_7     \u001b[3m\u001b[90m<chr>\u001b[39m\u001b[23m \"0\", \"White\", \"White\", \"White\", \"White\", \"White\",…\n",
      "$ race_ethnicity_8     \u001b[3m\u001b[90m<chr>\u001b[39m\u001b[23m \"0\", \"0\", \"0\", \"0\", \"0\", \"0\", \"0\", \"0\", \"0\", \"0\",…\n",
      "$ race_ethnicity_9     \u001b[3m\u001b[90m<chr>\u001b[39m\u001b[23m \"0\", \"0\", \"0\", \"0\", \"0\", \"0\", \"0\", \"0\", \"0\", \"0\",…\n",
      "$ education            \u001b[3m\u001b[90m<chr>\u001b[39m\u001b[23m \"High school graduate - high school diploma or eq…\n",
      "$ income               \u001b[3m\u001b[90m<chr>\u001b[39m\u001b[23m \"$40,000 - $49,999\", \"Less than $10,000\", \"$100,0…\n",
      "$ sensitivity_1        \u001b[3m\u001b[90m<ord>\u001b[39m\u001b[23m 3, NA, NA, NA, 10, NA, 10, 10, 10, NA, 10, NA, 4,…\n",
      "$ sensitivity_2        \u001b[3m\u001b[90m<ord>\u001b[39m\u001b[23m NA, NA, NA, NA, 10, NA, 1, 10, 10, NA, 6, NA, 7, …\n",
      "$ sensitivity_3        \u001b[3m\u001b[90m<ord>\u001b[39m\u001b[23m NA, 8, NA, 10, 10, NA, 1, 10, 10, NA, 10, NA, 5, …\n",
      "$ sensitivity_4        \u001b[3m\u001b[90m<ord>\u001b[39m\u001b[23m 2, NA, NA, NA, 10, 10, 1, 10, 10, 6, 10, NA, 5, 9…\n",
      "$ sensitivity_5        \u001b[3m\u001b[90m<ord>\u001b[39m\u001b[23m 6, 10, NA, 10, 10, NA, 1, 10, 10, NA, 10, NA, 7, …\n",
      "$ sensitivity_6        \u001b[3m\u001b[90m<ord>\u001b[39m\u001b[23m 4, 10, NA, NA, 10, NA, 1, 10, 10, NA, 10, 1, 8, 5…\n",
      "$ sensitivity_7        \u001b[3m\u001b[90m<ord>\u001b[39m\u001b[23m NA, 7, NA, NA, 8, NA, 1, 10, 10, NA, 9, NA, 7, 2,…\n",
      "$ sensitivity_8        \u001b[3m\u001b[90m<ord>\u001b[39m\u001b[23m 1, 6, NA, NA, 6, NA, 1, 10, 1, NA, 10, NA, 7, 5, …\n",
      "$ sensitivity_9        \u001b[3m\u001b[90m<ord>\u001b[39m\u001b[23m NA, 1, 10, NA, 4, NA, 1, 10, 1, NA, 9, NA, 4, 5, …\n",
      "$ sensitivity_10       \u001b[3m\u001b[90m<ord>\u001b[39m\u001b[23m NA, NA, NA, NA, 6, NA, 1, 10, 1, NA, 9, NA, 5, 1,…\n",
      "$ sensitivity_11       \u001b[3m\u001b[90m<ord>\u001b[39m\u001b[23m NA, 10, NA, NA, 6, NA, 1, 10, 1, NA, 10, NA, 5, 2…\n",
      "$ sensitivity_12       \u001b[3m\u001b[90m<ord>\u001b[39m\u001b[23m NA, 10, NA, NA, 4, NA, 1, 10, 10, NA, 8, NA, 8, 3…\n",
      "$ sensitivity_13       \u001b[3m\u001b[90m<ord>\u001b[39m\u001b[23m NA, 10, NA, NA, 10, NA, 1, 10, 10, NA, 10, NA, 4,…\n",
      "$ sensitivity_14       \u001b[3m\u001b[90m<ord>\u001b[39m\u001b[23m NA, 10, NA, NA, 10, NA, 1, 10, 10, NA, 9, NA, 9, …\n",
      "$ sensitivity_15       \u001b[3m\u001b[90m<ord>\u001b[39m\u001b[23m 4, 10, NA, NA, 10, NA, 1, 10, 10, NA, 9, NA, 7, 5…\n",
      "$ sensitivity_16       \u001b[3m\u001b[90m<ord>\u001b[39m\u001b[23m NA, 8, NA, NA, 4, NA, 1, 10, 10, NA, 10, NA, 7, 8…\n",
      "$ trust_1              \u001b[3m\u001b[90m<dbl>\u001b[39m\u001b[23m 3, 3, NA, 6, 5, 5, NA, 5, 6, 6, 7, 4, 4, NA, NA, …\n",
      "$ trust_2              \u001b[3m\u001b[90m<dbl>\u001b[39m\u001b[23m 6, NA, NA, NA, 4, NA, 4, 5, NA, 6, 7, 3, 5, NA, 4…\n",
      "$ trust_3              \u001b[3m\u001b[90m<dbl>\u001b[39m\u001b[23m 4, NA, NA, NA, 5, NA, 7, 7, NA, 4, NA, NA, 6, NA,…\n",
      "$ trust_4              \u001b[3m\u001b[90m<dbl>\u001b[39m\u001b[23m 5, NA, NA, NA, 4, NA, 7, NA, NA, 4, NA, 4, 3, 7, …\n",
      "$ trust_5              \u001b[3m\u001b[90m<dbl>\u001b[39m\u001b[23m 5, NA, 7, NA, 4, NA, 5, NA, NA, 5, NA, 3, 4, 6, 5…\n",
      "$ trust_6              \u001b[3m\u001b[90m<dbl>\u001b[39m\u001b[23m 5, 3, 5, NA, NA, NA, 4, NA, NA, 4, NA, 5, 6, 6, 6…\n",
      "$ privacy_behaviors_1  \u001b[3m\u001b[90m<dbl>\u001b[39m\u001b[23m 1, 3, 2, NA, 2, NA, 2, 2, NA, 1, 3, 2, 3, 3, 2, 3…\n",
      "$ privacy_behaviors_2  \u001b[3m\u001b[90m<dbl>\u001b[39m\u001b[23m 1, 2, 3, 2, 2, NA, 1, 2, NA, 2, 3, 3, 2, 2, 2, 2,…\n",
      "$ privacy_behaviors_3  \u001b[3m\u001b[90m<dbl>\u001b[39m\u001b[23m 2, 3, 3, 2, 3, NA, 1, 2, 3, 1, 3, 2, 2, 2, 1, 3, …\n",
      "$ privacy_behaviors_4  \u001b[3m\u001b[90m<dbl>\u001b[39m\u001b[23m 2, 2, 2, NA, 2, NA, 2, 2, NA, 2, 3, 2, 2, 1, 1, 3…\n",
      "$ privacy_behaviors_5  \u001b[3m\u001b[90m<dbl>\u001b[39m\u001b[23m 3, 2, 3, NA, 2, NA, 2, 2, NA, 1, 3, 2, 2, 1, 2, 2…\n",
      "$ privacy_behaviors_6  \u001b[3m\u001b[90m<dbl>\u001b[39m\u001b[23m 1, 2, 3, 2, 3, 3, 3, 2, NA, 2, 3, 2, 2, 2, 2, 2, …\n",
      "$ privacy_behaviors_7  \u001b[3m\u001b[90m<dbl>\u001b[39m\u001b[23m 1, 2, 2, NA, 3, NA, 3, 2, NA, 2, 3, 2, 3, 1, 1, 3…\n",
      "$ source               \u001b[3m\u001b[90m<chr>\u001b[39m\u001b[23m \"qualtrics\", \"qualtrics\", \"qualtrics\", \"qualtrics…\n",
      "$ trust_scale          \u001b[3m\u001b[90m<dbl>\u001b[39m\u001b[23m 28, 6, 12, 6, 22, 5, 27, 17, 6, 29, 14, 19, 28, 1…\n",
      "$ dp_scale             \u001b[3m\u001b[90m<dbl>\u001b[39m\u001b[23m 7, 12, 8, 12, 12, 10, 8, 12, 12, 8, 11, 8, 12, 8,…\n",
      "$ pb_scale             \u001b[3m\u001b[90m<dbl>\u001b[39m\u001b[23m 11, 16, 18, 6, 17, 3, 14, 14, 3, 11, 21, 15, 16, …\n"
     ]
    }
   ],
   "source": [
    "df <- df %>%\n",
    "    mutate_at(vars(starts_with(\"trust_\")),\n",
    "              list(as.numeric)) %>%\n",
    "    mutate_at(vars(starts_with(\"digital_privacy_\")),\n",
    "              list(as.numeric)) %>%\n",
    "    mutate_at(vars(starts_with(\"privacy_behaviors_\")),\n",
    "              list(as.numeric)) %>%\n",
    "    rowwise() %>% \n",
    "    mutate(trust_scale = sum(across(starts_with(\"trust_\")), na.rm = T)) %>% \n",
    "    mutate(dp_scale = sum(across(starts_with(\"digital_privacy_\")), na.rm = T)) %>%\n",
    "    mutate(pb_scale = sum(across(starts_with(\"privacy_behaviors_\")), na.rm = T)) %>%\n",
    "    ungroup() %>%\n",
    "    glimpse()"
   ]
  },
  {
   "cell_type": "markdown",
   "metadata": {},
   "source": [
    "## Recode Demographics"
   ]
  },
  {
   "cell_type": "markdown",
   "metadata": {},
   "source": [
    "Then we handle the demographic questions. Many of these were asked with \"check all that apply\", so we have to generate variables. We have very few folks who indicated minority SOGI so are collapsing those categories."
   ]
  },
  {
   "cell_type": "code",
   "execution_count": 10,
   "metadata": {},
   "outputs": [],
   "source": [
    "df <- df %>%\n",
    "    mutate(man_alone = case_when(gender_identity_2 == 'Man' ~ '1', \n",
    "                                 gender_identity_2 == '-99' ~ as.character(NA),\n",
    "                                 gender_identity_2 == '0' ~ '0',\n",
    "                                 gender_identity_1 == 'Woman' | gender_identity_3 == 'Transgender' | gender_identity_4 == 'Nonbinary/genderqueer' | gender_identity_5 == 'Something else' ~ '0',\n",
    "                                 gender_identity_5 == 'Prefer not to answer' ~ as.character(NA))) %>%\n",
    "    mutate(straight_alone = case_when(sexual_orientation_2 == 'Heterosexual (straight)' ~ '1', \n",
    "                                      sexual_orientation_2 == '-99' ~ as.character(NA),\n",
    "                                      sexual_orientation_2 == '0' ~ '0',\n",
    "                                      sexual_orientation_1 == 'Gay or lesbian' | sexual_orientation_3 == 'Bisexual' | sexual_orientation_5 == 'Something else' ~ '0',\n",
    "                                      sexual_orientation_4 == 'Prefer not to answer' ~ as.character(NA))) %>%\n",
    "    mutate(white_alone = case_when(race_ethnicity_7 == 'White' ~ '1', \n",
    "                                   race_ethnicity_7 == '-99' ~ as.character(NA),\n",
    "                                   race_ethnicity_7 == '0' ~ '0',\n",
    "                                   race_ethnicity_1 == 'American Indian or Alaskan Native' | race_ethnicity_2 == 'Asian' | race_ethnicity_3 == 'Black or African American' | race_ethnicity_4 == 'Hispanic or Latino' | race_ethnicity_5 == 'Middle Eastern or North Africa' | race_ethnicity_6 == 'Native Hawaiian or other Pacific Islander' | race_ethnicity_9 == 'Something else' ~ '0',                                  \n",
    "                                   race_ethnicity_8 == 'Prefer not to answer' ~ as.character(NA))) %>%\n",
    "    mutate(black_alone = case_when(race_ethnicity_3 == 'Black or African American' ~ '1', \n",
    "                                   race_ethnicity_3 == '-99' ~ as.character(NA),\n",
    "                                   race_ethnicity_3 == '0' ~ '0',\n",
    "                                   race_ethnicity_1 == 'American Indian or Alaskan Native' | race_ethnicity_2 == 'Asian' | race_ethnicity_7 == 'White' | race_ethnicity_4 == 'Hispanic or Latino' | race_ethnicity_5 == 'Middle Eastern or North Africa' | race_ethnicity_6 == 'Native Hawaiian or other Pacific Islander' | race_ethnicity_9 == 'Something else' ~ '0',\n",
    "                                   race_ethnicity_8 == 'Prefer not to answer' ~ as.character(NA))) %>%\n",
    "    mutate(race = case_when(black_alone == '1' ~ 'Black',\n",
    "                                 white_alone == '1' ~ 'White',\n",
    "                                 black_alone == '0' & white_alone == '0' ~ 'Other')) %>%\n",
    "    mutate_at(vars(c('man_alone', 'straight_alone', 'white_alone', 'black_alone', 'race')), list(~factor(., ordered = FALSE)))\n"
   ]
  },
  {
   "cell_type": "code",
   "execution_count": 11,
   "metadata": {},
   "outputs": [
    {
     "data": {
      "text/html": [
       "<table class=\"dataframe\">\n",
       "<caption>A tibble: 3 × 2</caption>\n",
       "<thead>\n",
       "\t<tr><th scope=col>man_alone</th><th scope=col>n</th></tr>\n",
       "\t<tr><th scope=col>&lt;fct&gt;</th><th scope=col>&lt;int&gt;</th></tr>\n",
       "</thead>\n",
       "<tbody>\n",
       "\t<tr><td>0 </td><td>456</td></tr>\n",
       "\t<tr><td>1 </td><td>551</td></tr>\n",
       "\t<tr><td>NA</td><td> 11</td></tr>\n",
       "</tbody>\n",
       "</table>\n"
      ],
      "text/latex": [
       "A tibble: 3 × 2\n",
       "\\begin{tabular}{ll}\n",
       " man\\_alone & n\\\\\n",
       " <fct> & <int>\\\\\n",
       "\\hline\n",
       "\t 0  & 456\\\\\n",
       "\t 1  & 551\\\\\n",
       "\t NA &  11\\\\\n",
       "\\end{tabular}\n"
      ],
      "text/markdown": [
       "\n",
       "A tibble: 3 × 2\n",
       "\n",
       "| man_alone &lt;fct&gt; | n &lt;int&gt; |\n",
       "|---|---|\n",
       "| 0  | 456 |\n",
       "| 1  | 551 |\n",
       "| NA |  11 |\n",
       "\n"
      ],
      "text/plain": [
       "  man_alone n  \n",
       "1 0         456\n",
       "2 1         551\n",
       "3 NA         11"
      ]
     },
     "metadata": {},
     "output_type": "display_data"
    }
   ],
   "source": [
    "df %>% count(man_alone)"
   ]
  },
  {
   "cell_type": "code",
   "execution_count": 12,
   "metadata": {},
   "outputs": [
    {
     "data": {
      "text/html": [
       "<table class=\"dataframe\">\n",
       "<caption>A tibble: 3 × 2</caption>\n",
       "<thead>\n",
       "\t<tr><th scope=col>straight_alone</th><th scope=col>n</th></tr>\n",
       "\t<tr><th scope=col>&lt;fct&gt;</th><th scope=col>&lt;int&gt;</th></tr>\n",
       "</thead>\n",
       "<tbody>\n",
       "\t<tr><td>0 </td><td>161</td></tr>\n",
       "\t<tr><td>1 </td><td>844</td></tr>\n",
       "\t<tr><td>NA</td><td> 13</td></tr>\n",
       "</tbody>\n",
       "</table>\n"
      ],
      "text/latex": [
       "A tibble: 3 × 2\n",
       "\\begin{tabular}{ll}\n",
       " straight\\_alone & n\\\\\n",
       " <fct> & <int>\\\\\n",
       "\\hline\n",
       "\t 0  & 161\\\\\n",
       "\t 1  & 844\\\\\n",
       "\t NA &  13\\\\\n",
       "\\end{tabular}\n"
      ],
      "text/markdown": [
       "\n",
       "A tibble: 3 × 2\n",
       "\n",
       "| straight_alone &lt;fct&gt; | n &lt;int&gt; |\n",
       "|---|---|\n",
       "| 0  | 161 |\n",
       "| 1  | 844 |\n",
       "| NA |  13 |\n",
       "\n"
      ],
      "text/plain": [
       "  straight_alone n  \n",
       "1 0              161\n",
       "2 1              844\n",
       "3 NA              13"
      ]
     },
     "metadata": {},
     "output_type": "display_data"
    }
   ],
   "source": [
    "df %>% count(straight_alone)"
   ]
  },
  {
   "cell_type": "code",
   "execution_count": 13,
   "metadata": {},
   "outputs": [
    {
     "data": {
      "text/html": [
       "<table class=\"dataframe\">\n",
       "<caption>A tibble: 3 × 2</caption>\n",
       "<thead>\n",
       "\t<tr><th scope=col>white_alone</th><th scope=col>n</th></tr>\n",
       "\t<tr><th scope=col>&lt;fct&gt;</th><th scope=col>&lt;int&gt;</th></tr>\n",
       "</thead>\n",
       "<tbody>\n",
       "\t<tr><td>0 </td><td>226</td></tr>\n",
       "\t<tr><td>1 </td><td>769</td></tr>\n",
       "\t<tr><td>NA</td><td> 23</td></tr>\n",
       "</tbody>\n",
       "</table>\n"
      ],
      "text/latex": [
       "A tibble: 3 × 2\n",
       "\\begin{tabular}{ll}\n",
       " white\\_alone & n\\\\\n",
       " <fct> & <int>\\\\\n",
       "\\hline\n",
       "\t 0  & 226\\\\\n",
       "\t 1  & 769\\\\\n",
       "\t NA &  23\\\\\n",
       "\\end{tabular}\n"
      ],
      "text/markdown": [
       "\n",
       "A tibble: 3 × 2\n",
       "\n",
       "| white_alone &lt;fct&gt; | n &lt;int&gt; |\n",
       "|---|---|\n",
       "| 0  | 226 |\n",
       "| 1  | 769 |\n",
       "| NA |  23 |\n",
       "\n"
      ],
      "text/plain": [
       "  white_alone n  \n",
       "1 0           226\n",
       "2 1           769\n",
       "3 NA           23"
      ]
     },
     "metadata": {},
     "output_type": "display_data"
    }
   ],
   "source": [
    "df %>% count(white_alone)"
   ]
  },
  {
   "cell_type": "code",
   "execution_count": 14,
   "metadata": {},
   "outputs": [
    {
     "data": {
      "text/html": [
       "<table class=\"dataframe\">\n",
       "<caption>A tibble: 3 × 2</caption>\n",
       "<thead>\n",
       "\t<tr><th scope=col>black_alone</th><th scope=col>n</th></tr>\n",
       "\t<tr><th scope=col>&lt;fct&gt;</th><th scope=col>&lt;int&gt;</th></tr>\n",
       "</thead>\n",
       "<tbody>\n",
       "\t<tr><td>0 </td><td>905</td></tr>\n",
       "\t<tr><td>1 </td><td> 90</td></tr>\n",
       "\t<tr><td>NA</td><td> 23</td></tr>\n",
       "</tbody>\n",
       "</table>\n"
      ],
      "text/latex": [
       "A tibble: 3 × 2\n",
       "\\begin{tabular}{ll}\n",
       " black\\_alone & n\\\\\n",
       " <fct> & <int>\\\\\n",
       "\\hline\n",
       "\t 0  & 905\\\\\n",
       "\t 1  &  90\\\\\n",
       "\t NA &  23\\\\\n",
       "\\end{tabular}\n"
      ],
      "text/markdown": [
       "\n",
       "A tibble: 3 × 2\n",
       "\n",
       "| black_alone &lt;fct&gt; | n &lt;int&gt; |\n",
       "|---|---|\n",
       "| 0  | 905 |\n",
       "| 1  |  90 |\n",
       "| NA |  23 |\n",
       "\n"
      ],
      "text/plain": [
       "  black_alone n  \n",
       "1 0           905\n",
       "2 1            90\n",
       "3 NA           23"
      ]
     },
     "metadata": {},
     "output_type": "display_data"
    }
   ],
   "source": [
    "df %>% count(black_alone)"
   ]
  },
  {
   "cell_type": "code",
   "execution_count": 15,
   "metadata": {},
   "outputs": [
    {
     "data": {
      "text/html": [
       "<table class=\"dataframe\">\n",
       "<caption>A tibble: 4 × 2</caption>\n",
       "<thead>\n",
       "\t<tr><th scope=col>race</th><th scope=col>n</th></tr>\n",
       "\t<tr><th scope=col>&lt;fct&gt;</th><th scope=col>&lt;int&gt;</th></tr>\n",
       "</thead>\n",
       "<tbody>\n",
       "\t<tr><td>Black</td><td> 90</td></tr>\n",
       "\t<tr><td>Other</td><td>140</td></tr>\n",
       "\t<tr><td>White</td><td>765</td></tr>\n",
       "\t<tr><td>NA   </td><td> 23</td></tr>\n",
       "</tbody>\n",
       "</table>\n"
      ],
      "text/latex": [
       "A tibble: 4 × 2\n",
       "\\begin{tabular}{ll}\n",
       " race & n\\\\\n",
       " <fct> & <int>\\\\\n",
       "\\hline\n",
       "\t Black &  90\\\\\n",
       "\t Other & 140\\\\\n",
       "\t White & 765\\\\\n",
       "\t NA    &  23\\\\\n",
       "\\end{tabular}\n"
      ],
      "text/markdown": [
       "\n",
       "A tibble: 4 × 2\n",
       "\n",
       "| race &lt;fct&gt; | n &lt;int&gt; |\n",
       "|---|---|\n",
       "| Black |  90 |\n",
       "| Other | 140 |\n",
       "| White | 765 |\n",
       "| NA    |  23 |\n",
       "\n"
      ],
      "text/plain": [
       "  race  n  \n",
       "1 Black  90\n",
       "2 Other 140\n",
       "3 White 765\n",
       "4 NA     23"
      ]
     },
     "metadata": {},
     "output_type": "display_data"
    }
   ],
   "source": [
    "df %>% count(race)"
   ]
  },
  {
   "cell_type": "code",
   "execution_count": 16,
   "metadata": {},
   "outputs": [
    {
     "data": {
      "text/html": [
       "<table class=\"dataframe\">\n",
       "<caption>A tibble: 8 × 2</caption>\n",
       "<thead>\n",
       "\t<tr><th scope=col>age</th><th scope=col>n</th></tr>\n",
       "\t<tr><th scope=col>&lt;chr&gt;</th><th scope=col>&lt;int&gt;</th></tr>\n",
       "</thead>\n",
       "<tbody>\n",
       "\t<tr><td>18 - 24    </td><td> 46</td></tr>\n",
       "\t<tr><td>25 - 34    </td><td>299</td></tr>\n",
       "\t<tr><td>35 - 44    </td><td>210</td></tr>\n",
       "\t<tr><td>45 - 54    </td><td> 89</td></tr>\n",
       "\t<tr><td>55 - 64    </td><td> 99</td></tr>\n",
       "\t<tr><td>65 - 74    </td><td>189</td></tr>\n",
       "\t<tr><td>75 - 84    </td><td> 71</td></tr>\n",
       "\t<tr><td>85 or older</td><td> 15</td></tr>\n",
       "</tbody>\n",
       "</table>\n"
      ],
      "text/latex": [
       "A tibble: 8 × 2\n",
       "\\begin{tabular}{ll}\n",
       " age & n\\\\\n",
       " <chr> & <int>\\\\\n",
       "\\hline\n",
       "\t 18 - 24     &  46\\\\\n",
       "\t 25 - 34     & 299\\\\\n",
       "\t 35 - 44     & 210\\\\\n",
       "\t 45 - 54     &  89\\\\\n",
       "\t 55 - 64     &  99\\\\\n",
       "\t 65 - 74     & 189\\\\\n",
       "\t 75 - 84     &  71\\\\\n",
       "\t 85 or older &  15\\\\\n",
       "\\end{tabular}\n"
      ],
      "text/markdown": [
       "\n",
       "A tibble: 8 × 2\n",
       "\n",
       "| age &lt;chr&gt; | n &lt;int&gt; |\n",
       "|---|---|\n",
       "| 18 - 24     |  46 |\n",
       "| 25 - 34     | 299 |\n",
       "| 35 - 44     | 210 |\n",
       "| 45 - 54     |  89 |\n",
       "| 55 - 64     |  99 |\n",
       "| 65 - 74     | 189 |\n",
       "| 75 - 84     |  71 |\n",
       "| 85 or older |  15 |\n",
       "\n"
      ],
      "text/plain": [
       "  age         n  \n",
       "1 18 - 24      46\n",
       "2 25 - 34     299\n",
       "3 35 - 44     210\n",
       "4 45 - 54      89\n",
       "5 55 - 64      99\n",
       "6 65 - 74     189\n",
       "7 75 - 84      71\n",
       "8 85 or older  15"
      ]
     },
     "metadata": {},
     "output_type": "display_data"
    }
   ],
   "source": [
    "df %>% count(age)"
   ]
  },
  {
   "cell_type": "code",
   "execution_count": 17,
   "metadata": {},
   "outputs": [
    {
     "data": {
      "text/html": [
       "<table class=\"dataframe\">\n",
       "<caption>A tibble: 3 × 2</caption>\n",
       "<thead>\n",
       "\t<tr><th scope=col>age_brackets</th><th scope=col>n</th></tr>\n",
       "\t<tr><th scope=col>&lt;ord&gt;</th><th scope=col>&lt;int&gt;</th></tr>\n",
       "</thead>\n",
       "<tbody>\n",
       "\t<tr><td>18 - 34    </td><td>345</td></tr>\n",
       "\t<tr><td>35 - 64    </td><td>398</td></tr>\n",
       "\t<tr><td>65 and over</td><td>275</td></tr>\n",
       "</tbody>\n",
       "</table>\n"
      ],
      "text/latex": [
       "A tibble: 3 × 2\n",
       "\\begin{tabular}{ll}\n",
       " age\\_brackets & n\\\\\n",
       " <ord> & <int>\\\\\n",
       "\\hline\n",
       "\t 18 - 34     & 345\\\\\n",
       "\t 35 - 64     & 398\\\\\n",
       "\t 65 and over & 275\\\\\n",
       "\\end{tabular}\n"
      ],
      "text/markdown": [
       "\n",
       "A tibble: 3 × 2\n",
       "\n",
       "| age_brackets &lt;ord&gt; | n &lt;int&gt; |\n",
       "|---|---|\n",
       "| 18 - 34     | 345 |\n",
       "| 35 - 64     | 398 |\n",
       "| 65 and over | 275 |\n",
       "\n"
      ],
      "text/plain": [
       "  age_brackets n  \n",
       "1 18 - 34      345\n",
       "2 35 - 64      398\n",
       "3 65 and over  275"
      ]
     },
     "metadata": {},
     "output_type": "display_data"
    }
   ],
   "source": [
    "df <- df %>%\n",
    "    mutate(age_brackets = case_when(age == '18 - 24' ~ '18 - 34', \n",
    "                                    age == '25 - 34' ~ '18 - 34',\n",
    "                                    age == '35 - 44' ~ '35 - 64',\n",
    "                                    age == '45 - 54' ~ '35 - 64',\n",
    "                                    age == '55 - 64' ~ '35 - 64',\n",
    "                                    TRUE ~ '65 and over'                                 \n",
    "                                   )) %>%\n",
    "    mutate(age_brackets = factor(age_brackets, levels = c('18 - 34', '35 - 64', '65 and over'), ordered = TRUE))\n",
    "\n",
    "df %>% count(age_brackets)"
   ]
  },
  {
   "cell_type": "code",
   "execution_count": 18,
   "metadata": {},
   "outputs": [
    {
     "data": {
      "text/html": [
       "<table class=\"dataframe\">\n",
       "<caption>A tibble: 9 × 2</caption>\n",
       "<thead>\n",
       "\t<tr><th scope=col>education</th><th scope=col>n</th></tr>\n",
       "\t<tr><th scope=col>&lt;chr&gt;</th><th scope=col>&lt;int&gt;</th></tr>\n",
       "</thead>\n",
       "<tbody>\n",
       "\t<tr><td>Associate degree                                                           </td><td> 89</td></tr>\n",
       "\t<tr><td>Bachelor's degree (For example: BA, AB, BS)                                </td><td>397</td></tr>\n",
       "\t<tr><td>Did not complete high school                                               </td><td> 10</td></tr>\n",
       "\t<tr><td>Doctorate degree (For example: PhD, EdD)                                   </td><td> 15</td></tr>\n",
       "\t<tr><td>High school graduate - high school diploma or equivalent (for example: GED)</td><td>147</td></tr>\n",
       "\t<tr><td>Master's degree (For example: MA, MS)                                      </td><td>151</td></tr>\n",
       "\t<tr><td>Professional Degree (For example: MBA, MFA, DDS, DVM, LLB, JD)             </td><td> 21</td></tr>\n",
       "\t<tr><td>Some college but no degree                                                 </td><td>185</td></tr>\n",
       "\t<tr><td>NA                                                                         </td><td>  3</td></tr>\n",
       "</tbody>\n",
       "</table>\n"
      ],
      "text/latex": [
       "A tibble: 9 × 2\n",
       "\\begin{tabular}{ll}\n",
       " education & n\\\\\n",
       " <chr> & <int>\\\\\n",
       "\\hline\n",
       "\t Associate degree                                                            &  89\\\\\n",
       "\t Bachelor's degree (For example: BA, AB, BS)                                 & 397\\\\\n",
       "\t Did not complete high school                                                &  10\\\\\n",
       "\t Doctorate degree (For example: PhD, EdD)                                    &  15\\\\\n",
       "\t High school graduate - high school diploma or equivalent (for example: GED) & 147\\\\\n",
       "\t Master's degree (For example: MA, MS)                                       & 151\\\\\n",
       "\t Professional Degree (For example: MBA, MFA, DDS, DVM, LLB, JD)              &  21\\\\\n",
       "\t Some college but no degree                                                  & 185\\\\\n",
       "\t NA                                                                          &   3\\\\\n",
       "\\end{tabular}\n"
      ],
      "text/markdown": [
       "\n",
       "A tibble: 9 × 2\n",
       "\n",
       "| education &lt;chr&gt; | n &lt;int&gt; |\n",
       "|---|---|\n",
       "| Associate degree                                                            |  89 |\n",
       "| Bachelor's degree (For example: BA, AB, BS)                                 | 397 |\n",
       "| Did not complete high school                                                |  10 |\n",
       "| Doctorate degree (For example: PhD, EdD)                                    |  15 |\n",
       "| High school graduate - high school diploma or equivalent (for example: GED) | 147 |\n",
       "| Master's degree (For example: MA, MS)                                       | 151 |\n",
       "| Professional Degree (For example: MBA, MFA, DDS, DVM, LLB, JD)              |  21 |\n",
       "| Some college but no degree                                                  | 185 |\n",
       "| NA                                                                          |   3 |\n",
       "\n"
      ],
      "text/plain": [
       "  education                                                                  \n",
       "1 Associate degree                                                           \n",
       "2 Bachelor's degree (For example: BA, AB, BS)                                \n",
       "3 Did not complete high school                                               \n",
       "4 Doctorate degree (For example: PhD, EdD)                                   \n",
       "5 High school graduate - high school diploma or equivalent (for example: GED)\n",
       "6 Master's degree (For example: MA, MS)                                      \n",
       "7 Professional Degree (For example: MBA, MFA, DDS, DVM, LLB, JD)             \n",
       "8 Some college but no degree                                                 \n",
       "9 NA                                                                         \n",
       "  n  \n",
       "1  89\n",
       "2 397\n",
       "3  10\n",
       "4  15\n",
       "5 147\n",
       "6 151\n",
       "7  21\n",
       "8 185\n",
       "9   3"
      ]
     },
     "metadata": {},
     "output_type": "display_data"
    }
   ],
   "source": [
    "df %>%\n",
    "    count(education) "
   ]
  },
  {
   "cell_type": "code",
   "execution_count": 19,
   "metadata": {},
   "outputs": [
    {
     "data": {
      "text/html": [
       "<table class=\"dataframe\">\n",
       "<caption>A tibble: 3 × 2</caption>\n",
       "<thead>\n",
       "\t<tr><th scope=col>education_level</th><th scope=col>n</th></tr>\n",
       "\t<tr><th scope=col>&lt;ord&gt;</th><th scope=col>&lt;int&gt;</th></tr>\n",
       "</thead>\n",
       "<tbody>\n",
       "\t<tr><td>Less than college degree</td><td>342</td></tr>\n",
       "\t<tr><td>College degree          </td><td>486</td></tr>\n",
       "\t<tr><td>Graduate degree         </td><td>190</td></tr>\n",
       "</tbody>\n",
       "</table>\n"
      ],
      "text/latex": [
       "A tibble: 3 × 2\n",
       "\\begin{tabular}{ll}\n",
       " education\\_level & n\\\\\n",
       " <ord> & <int>\\\\\n",
       "\\hline\n",
       "\t Less than college degree & 342\\\\\n",
       "\t College degree           & 486\\\\\n",
       "\t Graduate degree          & 190\\\\\n",
       "\\end{tabular}\n"
      ],
      "text/markdown": [
       "\n",
       "A tibble: 3 × 2\n",
       "\n",
       "| education_level &lt;ord&gt; | n &lt;int&gt; |\n",
       "|---|---|\n",
       "| Less than college degree | 342 |\n",
       "| College degree           | 486 |\n",
       "| Graduate degree          | 190 |\n",
       "\n"
      ],
      "text/plain": [
       "  education_level          n  \n",
       "1 Less than college degree 342\n",
       "2 College degree           486\n",
       "3 Graduate degree          190"
      ]
     },
     "metadata": {},
     "output_type": "display_data"
    }
   ],
   "source": [
    "df <- df %>% mutate(education_level = case_when(education == 'Did not complete high school' | \n",
    "                                                education == 'High school graduate - high school diploma or equivalent (for example: GED)' |\n",
    "                                                education == 'Some college but no degree' ~ 'Less than college degree',\n",
    "                                                education == 'Associate degree' | education == 'Bachelor\\'s degree (For example: BA, AB, BS)' ~ 'College degree',\n",
    "                                                TRUE ~ 'Graduate degree'\n",
    "                                                )\n",
    "                   ) %>%\n",
    "            mutate(education_level = factor(education_level, \n",
    "                                            levels = c('Less than college degree', 'College degree', 'Graduate degree'), \n",
    "                                            ordered = TRUE)\n",
    "                )\n",
    "df %>% count(education_level)"
   ]
  },
  {
   "cell_type": "code",
   "execution_count": 20,
   "metadata": {},
   "outputs": [
    {
     "data": {
      "text/html": [
       "<table class=\"dataframe\">\n",
       "<caption>A tibble: 13 × 2</caption>\n",
       "<thead>\n",
       "\t<tr><th scope=col>income</th><th scope=col>n</th></tr>\n",
       "\t<tr><th scope=col>&lt;chr&gt;</th><th scope=col>&lt;int&gt;</th></tr>\n",
       "</thead>\n",
       "<tbody>\n",
       "\t<tr><td>$10,000 - $19,999  </td><td> 88</td></tr>\n",
       "\t<tr><td>$100,000 - $149,999</td><td> 79</td></tr>\n",
       "\t<tr><td>$20,000 - $29,999  </td><td>113</td></tr>\n",
       "\t<tr><td>$30,000 - $39,999  </td><td>132</td></tr>\n",
       "\t<tr><td>$40,000 - $49,999  </td><td>129</td></tr>\n",
       "\t<tr><td>$50,000 - $59,999  </td><td>142</td></tr>\n",
       "\t<tr><td>$60,000 - $69,999  </td><td> 67</td></tr>\n",
       "\t<tr><td>$70,000 - $79,999  </td><td> 75</td></tr>\n",
       "\t<tr><td>$80,000 - $89,999  </td><td> 49</td></tr>\n",
       "\t<tr><td>$90,000 - $99,999  </td><td> 49</td></tr>\n",
       "\t<tr><td>Less than $10,000  </td><td> 61</td></tr>\n",
       "\t<tr><td>More than $150,000 </td><td> 31</td></tr>\n",
       "\t<tr><td>NA                 </td><td>  3</td></tr>\n",
       "</tbody>\n",
       "</table>\n"
      ],
      "text/latex": [
       "A tibble: 13 × 2\n",
       "\\begin{tabular}{ll}\n",
       " income & n\\\\\n",
       " <chr> & <int>\\\\\n",
       "\\hline\n",
       "\t \\$10,000 - \\$19,999   &  88\\\\\n",
       "\t \\$100,000 - \\$149,999 &  79\\\\\n",
       "\t \\$20,000 - \\$29,999   & 113\\\\\n",
       "\t \\$30,000 - \\$39,999   & 132\\\\\n",
       "\t \\$40,000 - \\$49,999   & 129\\\\\n",
       "\t \\$50,000 - \\$59,999   & 142\\\\\n",
       "\t \\$60,000 - \\$69,999   &  67\\\\\n",
       "\t \\$70,000 - \\$79,999   &  75\\\\\n",
       "\t \\$80,000 - \\$89,999   &  49\\\\\n",
       "\t \\$90,000 - \\$99,999   &  49\\\\\n",
       "\t Less than \\$10,000   &  61\\\\\n",
       "\t More than \\$150,000  &  31\\\\\n",
       "\t NA                  &   3\\\\\n",
       "\\end{tabular}\n"
      ],
      "text/markdown": [
       "\n",
       "A tibble: 13 × 2\n",
       "\n",
       "| income &lt;chr&gt; | n &lt;int&gt; |\n",
       "|---|---|\n",
       "| $10,000 - $19,999   |  88 |\n",
       "| $100,000 - $149,999 |  79 |\n",
       "| $20,000 - $29,999   | 113 |\n",
       "| $30,000 - $39,999   | 132 |\n",
       "| $40,000 - $49,999   | 129 |\n",
       "| $50,000 - $59,999   | 142 |\n",
       "| $60,000 - $69,999   |  67 |\n",
       "| $70,000 - $79,999   |  75 |\n",
       "| $80,000 - $89,999   |  49 |\n",
       "| $90,000 - $99,999   |  49 |\n",
       "| Less than $10,000   |  61 |\n",
       "| More than $150,000  |  31 |\n",
       "| NA                  |   3 |\n",
       "\n"
      ],
      "text/plain": [
       "   income              n  \n",
       "1  $10,000 - $19,999    88\n",
       "2  $100,000 - $149,999  79\n",
       "3  $20,000 - $29,999   113\n",
       "4  $30,000 - $39,999   132\n",
       "5  $40,000 - $49,999   129\n",
       "6  $50,000 - $59,999   142\n",
       "7  $60,000 - $69,999    67\n",
       "8  $70,000 - $79,999    75\n",
       "9  $80,000 - $89,999    49\n",
       "10 $90,000 - $99,999    49\n",
       "11 Less than $10,000    61\n",
       "12 More than $150,000   31\n",
       "13 NA                    3"
      ]
     },
     "metadata": {},
     "output_type": "display_data"
    }
   ],
   "source": [
    "df %>% count(income)"
   ]
  },
  {
   "cell_type": "code",
   "execution_count": 21,
   "metadata": {},
   "outputs": [
    {
     "data": {
      "text/html": [
       "<table class=\"dataframe\">\n",
       "<caption>A tibble: 3 × 2</caption>\n",
       "<thead>\n",
       "\t<tr><th scope=col>income_level</th><th scope=col>n</th></tr>\n",
       "\t<tr><th scope=col>&lt;ord&gt;</th><th scope=col>&lt;int&gt;</th></tr>\n",
       "</thead>\n",
       "<tbody>\n",
       "\t<tr><td>Below 40K</td><td>394</td></tr>\n",
       "\t<tr><td>40K - 60K</td><td>271</td></tr>\n",
       "\t<tr><td>Over 60K </td><td>353</td></tr>\n",
       "</tbody>\n",
       "</table>\n"
      ],
      "text/latex": [
       "A tibble: 3 × 2\n",
       "\\begin{tabular}{ll}\n",
       " income\\_level & n\\\\\n",
       " <ord> & <int>\\\\\n",
       "\\hline\n",
       "\t Below 40K & 394\\\\\n",
       "\t 40K - 60K & 271\\\\\n",
       "\t Over 60K  & 353\\\\\n",
       "\\end{tabular}\n"
      ],
      "text/markdown": [
       "\n",
       "A tibble: 3 × 2\n",
       "\n",
       "| income_level &lt;ord&gt; | n &lt;int&gt; |\n",
       "|---|---|\n",
       "| Below 40K | 394 |\n",
       "| 40K - 60K | 271 |\n",
       "| Over 60K  | 353 |\n",
       "\n"
      ],
      "text/plain": [
       "  income_level n  \n",
       "1 Below 40K    394\n",
       "2 40K - 60K    271\n",
       "3 Over 60K     353"
      ]
     },
     "metadata": {},
     "output_type": "display_data"
    }
   ],
   "source": [
    "df <- df %>% # mutate(income = str_trim(income, side = \"both\")) %>%\n",
    "    mutate(income_level = case_when(income == '-99' ~ as.character(NA),\n",
    "                                             income == 'Less than $10,000' | income == '$10,000 - $19,999' | income == '$20,000 - $29,999' | income == '$30,000 - $39,999' ~ 'Below 40K',\n",
    "                                             income == '$40,000 - $49,999' | income == '$50,000 - $59,999' ~ '40K - 60K',\n",
    "                                             TRUE ~ 'Over 60K'\n",
    "                                    )\n",
    "                   ) %>%\n",
    "            mutate(income_level = factor(income_level, levels = c('Below 40K', '40K - 60K', 'Over 60K'), ordered = TRUE)\n",
    "                  )\n",
    "df %>% count(income_level)"
   ]
  },
  {
   "cell_type": "markdown",
   "metadata": {},
   "source": [
    "# Save the Data in R format"
   ]
  },
  {
   "cell_type": "markdown",
   "metadata": {},
   "source": [
    "Save it all as RData so we have the dfs and these transformations available for analysis."
   ]
  },
  {
   "cell_type": "code",
   "execution_count": 22,
   "metadata": {},
   "outputs": [],
   "source": [
    "save(df, file = out_file)"
   ]
  }
 ],
 "metadata": {
  "kernelspec": {
   "display_name": "R",
   "language": "R",
   "name": "ir"
  },
  "language_info": {
   "codemirror_mode": "r",
   "file_extension": ".r",
   "mimetype": "text/x-r-source",
   "name": "R",
   "pygments_lexer": "r",
   "version": "4.2.0"
  }
 },
 "nbformat": 4,
 "nbformat_minor": 4
}
